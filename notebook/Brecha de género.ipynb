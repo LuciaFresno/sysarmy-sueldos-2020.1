{
 "cells": [
  {
   "cell_type": "markdown",
   "metadata": {},
   "source": [
    "# Brecha de género\n",
    "\n",
    "En este documento queremos analizar la diferencia de sueldos entre hombres y mujeres, cuánto de ella podemos explicar con las respuestas de la encuesta, por ejemplo considerando si un grupo tiene mayor experiencia laboral que otro. También usar encuestas pasadas para analizar la tendencia."
   ]
  },
  {
   "cell_type": "code",
   "execution_count": 6,
   "metadata": {},
   "outputs": [],
   "source": [
    "import numpy as np\n",
    "import pandas as pd\n",
    "import matplotlib.pyplot as plt\n",
    "import xgboost as xgb\n",
    "from sklearn.model_selection import cross_val_score\n",
    "\n",
    "%matplotlib inline"
   ]
  },
  {
   "cell_type": "code",
   "execution_count": 2,
   "metadata": {},
   "outputs": [
    {
     "data": {
      "text/html": [
       "<div>\n",
       "<style scoped>\n",
       "    .dataframe tbody tr th:only-of-type {\n",
       "        vertical-align: middle;\n",
       "    }\n",
       "\n",
       "    .dataframe tbody tr th {\n",
       "        vertical-align: top;\n",
       "    }\n",
       "\n",
       "    .dataframe thead th {\n",
       "        text-align: right;\n",
       "    }\n",
       "</style>\n",
       "<table border=\"1\" class=\"dataframe\">\n",
       "  <thead>\n",
       "    <tr style=\"text-align: right;\">\n",
       "      <th></th>\n",
       "      <th>Me identifico</th>\n",
       "      <th>Tengo</th>\n",
       "      <th>Dónde estás trabajando</th>\n",
       "      <th>Años de experiencia</th>\n",
       "      <th>Años en la empresa actual</th>\n",
       "      <th>Años en el puesto actual</th>\n",
       "      <th>¿Gente a cargo?</th>\n",
       "      <th>Nivel de estudios alcanzado</th>\n",
       "      <th>Estado</th>\n",
       "      <th>Carrera</th>\n",
       "      <th>...</th>\n",
       "      <th>¿Tenés algún tipo de discapacidad?</th>\n",
       "      <th>¿Sentís que esto te dificultó el conseguir trabajo?</th>\n",
       "      <th>¿A qué eventos de tecnología asististe en el último año?</th>\n",
       "      <th>Cantidad de empleados</th>\n",
       "      <th>Actividad principal</th>\n",
       "      <th>¿La recomendás como un buen lugar para trabajar?</th>\n",
       "      <th>¿Cómo calificás las políticas de diversidad e inclusión?</th>\n",
       "      <th>¿A cuántos kilómetros de tu casa queda la oficina?</th>\n",
       "      <th>Beneficios extra</th>\n",
       "      <th>¿Cuáles considerás que son las mejores empresas de IT para trabajar en este momento, en tu ciudad?</th>\n",
       "    </tr>\n",
       "  </thead>\n",
       "  <tbody>\n",
       "    <tr>\n",
       "      <th>0</th>\n",
       "      <td>Hombre</td>\n",
       "      <td>40</td>\n",
       "      <td>Catamarca</td>\n",
       "      <td>15.0</td>\n",
       "      <td>0.0</td>\n",
       "      <td>0.0</td>\n",
       "      <td>0</td>\n",
       "      <td>Universitario</td>\n",
       "      <td>Completado</td>\n",
       "      <td>Licenciatura en Sistemas de Información</td>\n",
       "      <td>...</td>\n",
       "      <td>NaN</td>\n",
       "      <td>NaN</td>\n",
       "      <td>NaN</td>\n",
       "      <td>201-500</td>\n",
       "      <td>Otras industrias</td>\n",
       "      <td>6</td>\n",
       "      <td>6</td>\n",
       "      <td>4.0</td>\n",
       "      <td>Comidas pagas / subvencionadas, Estacionamient...</td>\n",
       "      <td>NaN</td>\n",
       "    </tr>\n",
       "    <tr>\n",
       "      <th>1</th>\n",
       "      <td>Mujer</td>\n",
       "      <td>35</td>\n",
       "      <td>Catamarca</td>\n",
       "      <td>15.0</td>\n",
       "      <td>10.0</td>\n",
       "      <td>3.0</td>\n",
       "      <td>5</td>\n",
       "      <td>Posgrado</td>\n",
       "      <td>Completado</td>\n",
       "      <td>Licenciatura en Sistemas de Información</td>\n",
       "      <td>...</td>\n",
       "      <td>NaN</td>\n",
       "      <td>No</td>\n",
       "      <td>NaN</td>\n",
       "      <td>11-50</td>\n",
       "      <td>Servicios / Consultoría de Software / Digital</td>\n",
       "      <td>5</td>\n",
       "      <td>8</td>\n",
       "      <td>2.0</td>\n",
       "      <td>Abono de celular y/o Internet</td>\n",
       "      <td>NaN</td>\n",
       "    </tr>\n",
       "    <tr>\n",
       "      <th>2</th>\n",
       "      <td>Hombre</td>\n",
       "      <td>39</td>\n",
       "      <td>Chaco</td>\n",
       "      <td>10.0</td>\n",
       "      <td>5.0</td>\n",
       "      <td>5.0</td>\n",
       "      <td>6</td>\n",
       "      <td>Universitario</td>\n",
       "      <td>Incompleto</td>\n",
       "      <td>Ingeniería en Sistemas de Información</td>\n",
       "      <td>...</td>\n",
       "      <td>NaN</td>\n",
       "      <td>NaN</td>\n",
       "      <td>Ekoparty</td>\n",
       "      <td>11-50</td>\n",
       "      <td>Servicios / Consultoría de Software / Digital</td>\n",
       "      <td>10</td>\n",
       "      <td>10</td>\n",
       "      <td>1.0</td>\n",
       "      <td>Capacitaciones y/o cursos, Clases de idiomas, ...</td>\n",
       "      <td>NaN</td>\n",
       "    </tr>\n",
       "    <tr>\n",
       "      <th>3</th>\n",
       "      <td>Hombre</td>\n",
       "      <td>42</td>\n",
       "      <td>Chaco</td>\n",
       "      <td>18.0</td>\n",
       "      <td>3.0</td>\n",
       "      <td>3.0</td>\n",
       "      <td>0</td>\n",
       "      <td>Universitario</td>\n",
       "      <td>Completado</td>\n",
       "      <td>Licenciatura en Análisis de Sistemas</td>\n",
       "      <td>...</td>\n",
       "      <td>NaN</td>\n",
       "      <td>No</td>\n",
       "      <td>NaN</td>\n",
       "      <td>11-50</td>\n",
       "      <td>Producto basado en Software</td>\n",
       "      <td>5</td>\n",
       "      <td>3</td>\n",
       "      <td>-1.0</td>\n",
       "      <td>Horarios flexibles, Sueldo dolarizado, WFH (Tr...</td>\n",
       "      <td>NaN</td>\n",
       "    </tr>\n",
       "    <tr>\n",
       "      <th>4</th>\n",
       "      <td>Hombre</td>\n",
       "      <td>29</td>\n",
       "      <td>Chaco</td>\n",
       "      <td>4.0</td>\n",
       "      <td>0.0</td>\n",
       "      <td>0.0</td>\n",
       "      <td>1</td>\n",
       "      <td>Universitario</td>\n",
       "      <td>Completado</td>\n",
       "      <td>Ingeniería Electrónica</td>\n",
       "      <td>...</td>\n",
       "      <td>NaN</td>\n",
       "      <td>NaN</td>\n",
       "      <td>Pynea, Autodefensa digital</td>\n",
       "      <td>201-500</td>\n",
       "      <td>Otras industrias</td>\n",
       "      <td>8</td>\n",
       "      <td>9</td>\n",
       "      <td>5.0</td>\n",
       "      <td>Abono de celular y/o Internet, Comidas pagas /...</td>\n",
       "      <td>NaN</td>\n",
       "    </tr>\n",
       "  </tbody>\n",
       "</table>\n",
       "<p>5 rows × 48 columns</p>\n",
       "</div>"
      ],
      "text/plain": [
       "  Me identifico  Tengo Dónde estás trabajando  Años de experiencia  \\\n",
       "0        Hombre     40              Catamarca                 15.0   \n",
       "1         Mujer     35              Catamarca                 15.0   \n",
       "2        Hombre     39                  Chaco                 10.0   \n",
       "3        Hombre     42                  Chaco                 18.0   \n",
       "4        Hombre     29                  Chaco                  4.0   \n",
       "\n",
       "   Años en la empresa actual  Años en el puesto actual ¿Gente a cargo?  \\\n",
       "0                        0.0                       0.0               0   \n",
       "1                       10.0                       3.0               5   \n",
       "2                        5.0                       5.0               6   \n",
       "3                        3.0                       3.0               0   \n",
       "4                        0.0                       0.0               1   \n",
       "\n",
       "  Nivel de estudios alcanzado      Estado  \\\n",
       "0               Universitario  Completado   \n",
       "1                    Posgrado  Completado   \n",
       "2               Universitario  Incompleto   \n",
       "3               Universitario  Completado   \n",
       "4               Universitario  Completado   \n",
       "\n",
       "                                   Carrera  ...  \\\n",
       "0  Licenciatura en Sistemas de Información  ...   \n",
       "1  Licenciatura en Sistemas de Información  ...   \n",
       "2    Ingeniería en Sistemas de Información  ...   \n",
       "3     Licenciatura en Análisis de Sistemas  ...   \n",
       "4                   Ingeniería Electrónica  ...   \n",
       "\n",
       "  ¿Tenés algún tipo de discapacidad?  \\\n",
       "0                                NaN   \n",
       "1                                NaN   \n",
       "2                                NaN   \n",
       "3                                NaN   \n",
       "4                                NaN   \n",
       "\n",
       "  ¿Sentís que esto te dificultó el conseguir trabajo?  \\\n",
       "0                                                NaN    \n",
       "1                                                 No    \n",
       "2                                                NaN    \n",
       "3                                                 No    \n",
       "4                                                NaN    \n",
       "\n",
       "  ¿A qué eventos de tecnología asististe en el último año?  \\\n",
       "0                                                NaN         \n",
       "1                                                NaN         \n",
       "2                                           Ekoparty         \n",
       "3                                                NaN         \n",
       "4                        Pynea, Autodefensa digital          \n",
       "\n",
       "  Cantidad de empleados                            Actividad principal  \\\n",
       "0               201-500                               Otras industrias   \n",
       "1                 11-50  Servicios / Consultoría de Software / Digital   \n",
       "2                 11-50  Servicios / Consultoría de Software / Digital   \n",
       "3                 11-50                    Producto basado en Software   \n",
       "4               201-500                               Otras industrias   \n",
       "\n",
       "  ¿La recomendás como un buen lugar para trabajar?  \\\n",
       "0                                                6   \n",
       "1                                                5   \n",
       "2                                               10   \n",
       "3                                                5   \n",
       "4                                                8   \n",
       "\n",
       "  ¿Cómo calificás las políticas de diversidad e inclusión?  \\\n",
       "0                                                  6         \n",
       "1                                                  8         \n",
       "2                                                 10         \n",
       "3                                                  3         \n",
       "4                                                  9         \n",
       "\n",
       "  ¿A cuántos kilómetros de tu casa queda la oficina?  \\\n",
       "0                                                4.0   \n",
       "1                                                2.0   \n",
       "2                                                1.0   \n",
       "3                                               -1.0   \n",
       "4                                                5.0   \n",
       "\n",
       "                                    Beneficios extra  \\\n",
       "0  Comidas pagas / subvencionadas, Estacionamient...   \n",
       "1                      Abono de celular y/o Internet   \n",
       "2  Capacitaciones y/o cursos, Clases de idiomas, ...   \n",
       "3  Horarios flexibles, Sueldo dolarizado, WFH (Tr...   \n",
       "4  Abono de celular y/o Internet, Comidas pagas /...   \n",
       "\n",
       "  ¿Cuáles considerás que son las mejores empresas de IT para trabajar en este momento, en tu ciudad?  \n",
       "0                                                NaN                                                  \n",
       "1                                                NaN                                                  \n",
       "2                                                NaN                                                  \n",
       "3                                                NaN                                                  \n",
       "4                                                NaN                                                  \n",
       "\n",
       "[5 rows x 48 columns]"
      ]
     },
     "execution_count": 2,
     "metadata": {},
     "output_type": "execute_result"
    }
   ],
   "source": [
    "df = pd.read_csv('2020.1 - sysarmy - Encuesta de remuneración salarial Argentina - Argentina.csv', skiprows=9)\n",
    "df = df[df['Salario mensual BRUTO (en tu moneda local)'] < 1_000_000]\n",
    "df = df[df['Años en la empresa actual'] < 40]\n",
    "df = df[(df['Salario mensual BRUTO (en tu moneda local)'] >= 10_000) & (df['Salario mensual BRUTO (en tu moneda local)'] <= 1_000_000)]\n",
    "df.head()"
   ]
  },
  {
   "cell_type": "code",
   "execution_count": 13,
   "metadata": {
    "deletable": false,
    "editable": false,
    "run_control": {
     "frozen": true
    }
   },
   "outputs": [
    {
     "data": {
      "text/plain": [
       "Hombre    4922\n",
       "Mujer      820\n",
       "Otros       24\n",
       "Name: Me identifico, dtype: int64"
      ]
     },
     "execution_count": 13,
     "metadata": {},
     "output_type": "execute_result"
    }
   ],
   "source": [
    "df['Me identifico'].value_counts()"
   ]
  },
  {
   "cell_type": "markdown",
   "metadata": {},
   "source": [
    "Lamentablemente hay muy pocas respuestas que no son hombre o mujer y no alcanzan los datos para sacar conclusiones, así que descartaré esos datos desde acá."
   ]
  },
  {
   "cell_type": "code",
   "execution_count": 14,
   "metadata": {},
   "outputs": [],
   "source": [
    "df = df[df['Me identifico'] != 'Otros']"
   ]
  },
  {
   "cell_type": "code",
   "execution_count": 39,
   "metadata": {
    "deletable": false,
    "editable": false,
    "run_control": {
     "frozen": true
    }
   },
   "outputs": [
    {
     "data": {
      "image/png": "[encoded data removed]",
      "text/plain": [
       "<Figure size 432x288 with 1 Axes>"
      ]
     },
     "metadata": {
      "needs_background": "light"
     },
     "output_type": "display_data"
    }
   ],
   "source": [
    "plt.ylabel('Sueldo bruto')\n",
    "plt.xticks([1, 2], ['Hombre', 'Mujer'])\n",
    "plt.yticks([4, 5, 6], ['10.000', '100.000', '1.000.000'])\n",
    "plt.violinplot([\n",
    "    np.log10(df[df['Me identifico'] == 'Hombre']['Salario mensual BRUTO (en tu moneda local)'].values),\n",
    "    np.log10(df[df['Me identifico'] == 'Mujer']['Salario mensual BRUTO (en tu moneda local)'].values),\n",
    "]);\n"
   ]
  },
  {
   "cell_type": "code",
   "execution_count": 45,
   "metadata": {},
   "outputs": [
    {
     "name": "stderr",
     "output_type": "stream",
     "text": [
      "/home/sebastianwaisbrot/.local/share/virtualenvs/sysarmy-sueldos-2020.1-TStUcAYq/lib/python3.8/site-packages/numpy/core/_asarray.py:83: VisibleDeprecationWarning: Creating an ndarray from ragged nested sequences (which is a list-or-tuple of lists-or-tuples-or ndarrays with different lengths or shapes) is deprecated. If you meant to do this, you must specify 'dtype=object' when creating the ndarray\n",
      "  return array(a, dtype, copy=False, order=order)\n"
     ]
    },
    {
     "data": {
      "image/png": "[encoded data removed]",
      "text/plain": [
       "<Figure size 288x576 with 1 Axes>"
      ]
     },
     "metadata": {
      "needs_background": "light"
     },
     "output_type": "display_data"
    }
   ],
   "source": [
    "df.boxplot('Salario mensual BRUTO (en tu moneda local)', 'Me identifico', figsize=(4, 8));"
   ]
  },
  {
   "cell_type": "code",
   "execution_count": 4,
   "metadata": {},
   "outputs": [],
   "source": [
    "regions_map = {\n",
    "    'Ciudad Autónoma de Buenos Aires': 'AMBA',\n",
    "    'GBA': 'AMBA',\n",
    "    'Catamarca': 'NOA',\n",
    "    'Chaco': 'NEA',\n",
    "    'Chubut': 'Patagonia',\n",
    "    'Corrientes': 'NEA',\n",
    "    'Entre Ríos': 'NEA',\n",
    "    'Formosa': 'NEA',\n",
    "    'Jujuy': 'NOA',\n",
    "    'La Pampa': 'Pampa',\n",
    "    'La Rioja': 'NOA',\n",
    "    'Mendoza': 'Cuyo',\n",
    "    'Misiones': 'NEA',\n",
    "    'Neuquén': 'Patagonia',\n",
    "    'Río Negro': 'Patagonia',\n",
    "    'Salta': 'NOA',\n",
    "    'San Juan': 'Cuyo',\n",
    "    'San Luis': 'Cuyo',\n",
    "    'Santa Cruz': 'Patagonia',\n",
    "    'Santa Fe': 'Pampa',\n",
    "    'Santiago del Estero': 'NOA',\n",
    "    'Tucumán': 'NOA',\n",
    "    'Córdoba': 'Pampa',\n",
    "    'Provincia de Buenos Aires': 'Pampa',\n",
    "    'Tierra del Fuego': 'Patagonia',\n",
    "}\n",
    "df['region'] = df['Dónde estás trabajando'].apply(lambda x: regions_map[x])"
   ]
  },
  {
   "cell_type": "code",
   "execution_count": 72,
   "metadata": {},
   "outputs": [
    {
     "data": {
      "text/plain": [
       "AMBA         675\n",
       "Pampa        110\n",
       "Cuyo          14\n",
       "NEA           12\n",
       "NOA            5\n",
       "Patagonia      4\n",
       "Name: region, dtype: int64"
      ]
     },
     "execution_count": 72,
     "metadata": {},
     "output_type": "execute_result"
    }
   ],
   "source": [
    "df[df['Me identifico'] == 'Mujer']['region'].value_counts()"
   ]
  },
  {
   "cell_type": "code",
   "execution_count": 77,
   "metadata": {},
   "outputs": [
    {
     "data": {
      "image/png": "[encoded data removed]",
      "text/plain": [
       "<Figure size 432x288 with 2 Axes>"
      ]
     },
     "metadata": {
      "needs_background": "light"
     },
     "output_type": "display_data"
    }
   ],
   "source": [
    "regions = ['AMBA', 'Pampa']\n",
    "f, axs = plt.subplots(1, len(regions),figsize=(6, 4))\n",
    "for i, region in enumerate(regions):\n",
    "    ax = plt.subplot(1, len(regions), i+1)\n",
    "    if i == 0:\n",
    "        ax.set_ylabel('Sueldo bruto')\n",
    "        ax.set_yticklabels(['10.000', '100.000', '1.000.000'])\n",
    "        ax.set_yticks([4, 5, 6])\n",
    "    else:\n",
    "        ax.set_yticks([])\n",
    "    ax.set_xlabel(region)\n",
    "    ax.set_xticks([1, 2])\n",
    "    ax.set_xticklabels(['H', 'M'])\n",
    "    ax.violinplot([\n",
    "        np.log10(df[(df['Me identifico'] == 'Hombre') & (df['region'] == region)]['Salario mensual BRUTO (en tu moneda local)'].values),\n",
    "        np.log10(df[(df['Me identifico'] == 'Mujer') & (df['region'] == region)]['Salario mensual BRUTO (en tu moneda local)'].values),\n",
    "    ]);\n"
   ]
  },
  {
   "cell_type": "code",
   "execution_count": 87,
   "metadata": {},
   "outputs": [],
   "source": [
    "degrees = df[df['Me identifico'] == 'Mujer']['Carrera'].value_counts()\n",
    "degrees = degrees[degrees > 25].keys().to_list()"
   ]
  },
  {
   "cell_type": "code",
   "execution_count": 93,
   "metadata": {},
   "outputs": [
    {
     "data": {
      "image/png": "[encoded data removed]",
      "text/plain": [
       "<Figure size 1728x288 with 6 Axes>"
      ]
     },
     "metadata": {
      "needs_background": "light"
     },
     "output_type": "display_data"
    }
   ],
   "source": [
    "f, axs = plt.subplots(1, len(degrees),figsize=(24, 4))\n",
    "for i, degree in enumerate(degrees):\n",
    "    ax = plt.subplot(1, len(degrees), i+1)\n",
    "    if i == 0:\n",
    "        ax.set_ylabel('Sueldo bruto')\n",
    "        ax.set_yticklabels(['10.000', '100.000', '1.000.000'])\n",
    "        ax.set_yticks([4, 5, 6])\n",
    "    else:\n",
    "        ax.set_yticks([])\n",
    "    ax.set_xlabel(degree)\n",
    "    ax.set_xticks([1, 2])\n",
    "    ax.set_xticklabels(['H', 'M'])\n",
    "    ax.violinplot([\n",
    "        np.log10(df[(df['Me identifico'] == 'Hombre') & (df['Carrera'] == degree)]['Salario mensual BRUTO (en tu moneda local)'].values),\n",
    "        np.log10(df[(df['Me identifico'] == 'Mujer') & (df['Carrera'] == degree)]['Salario mensual BRUTO (en tu moneda local)'].values),\n",
    "    ]);\n"
   ]
  },
  {
   "cell_type": "code",
   "execution_count": 9,
   "metadata": {
    "deletable": false,
    "editable": false,
    "run_control": {
     "frozen": true
    }
   },
   "outputs": [
    {
     "data": {
      "text/plain": [
       "0.6230504522865787"
      ]
     },
     "execution_count": 9,
     "metadata": {},
     "output_type": "execute_result"
    }
   ],
   "source": [
    "def row_to_words(row):\n",
    "    return [\n",
    "        f'{key}={row[key]}'\n",
    "        for key\n",
    "        in (\n",
    "            'Me identifico',\n",
    "            'Nivel de estudios alcanzado',\n",
    "            'Estado',\n",
    "            'Carrera',\n",
    "            'Realizaste cursos de especialización',\n",
    "            '¿Contribuís a proyectos open source?',\n",
    "            '¿Programás como hobbie?',\n",
    "            'Trabajo de',\n",
    "            '¿Qué SO usás en tu laptop/PC para trabajar?',\n",
    "            '¿Y en tu celular?',\n",
    "            '¿Tenés guardias?',\n",
    "            'Tipo de contrato',\n",
    "            'Orientación sexual',\n",
    "            'Cantidad de empleados',\n",
    "            'Actividad principal',\n",
    "        )\n",
    "    ] + [\n",
    "        f'{k}={v.lower().strip().replace(\".\", \"\")}' for k in (\n",
    "            '¿A qué eventos de tecnología asististe en el último año?',\n",
    "            'Beneficios extra',\n",
    "            'Plataformas',\n",
    "            'Lenguajes de programación',\n",
    "            'Frameworks, herramientas y librerías',\n",
    "            'Bases de datos',\n",
    "            'QA / Testing',\n",
    "            'IDEs',\n",
    "            'Lenguajes de programación'\n",
    "        ) for v in row.fillna('')[k].split(', ')\n",
    "    ] + [\n",
    "        f'provincia={regions_map[row[\"Dónde estás trabajando\"]]}'\n",
    "    ]\n",
    "\n",
    "counts = {}\n",
    "for i in range(df.shape[0]):\n",
    "    for word in row_to_words(df.iloc[i]):\n",
    "        counts[word] = counts.get(word, 0) + 1\n",
    "\n",
    "valid_words = [word for word, c in counts.items() if c > 1]\n",
    "\n",
    "\n",
    "def encode_row(row):\n",
    "    ws = row_to_words(row)\n",
    "    return pd.Series([w in ws for w in valid_words] + [\n",
    "        row['¿Gente a cargo?'],\n",
    "        row['Años de experiencia'],\n",
    "        row['Tengo'],\n",
    "    ])\n",
    "df_encoded = df.apply(encode_row, axis=1).astype(float)\n",
    "best = {'colsample_bytree': 0.7000000000000001, 'gamma': 0.65, 'learning_rate': 0.05, 'max_depth': 23, 'min_child_weight': 8.0, 'n_estimators': 245, 'subsample': 0.8718795402022754}\n",
    "cross_val_score(xgb.XGBRegressor(**best), df_encoded, np.log(df['Salario mensual BRUTO (en tu moneda local)'])).mean()"
   ]
  }
 ],
 "metadata": {
  "kernelspec": {
   "display_name": "Python 3",
   "language": "python",
   "name": "python3"
  },
  "language_info": {
   "codemirror_mode": {
    "name": "ipython",
    "version": 3
   },
   "file_extension": ".py",
   "mimetype": "text/x-python",
   "name": "python",
   "nbconvert_exporter": "python",
   "pygments_lexer": "ipython3",
   "version": "3.8.3"
  }
 },
 "nbformat": 4,
 "nbformat_minor": 4
}
