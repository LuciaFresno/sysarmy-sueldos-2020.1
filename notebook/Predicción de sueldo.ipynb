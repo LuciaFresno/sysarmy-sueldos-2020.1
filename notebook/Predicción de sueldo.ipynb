{
 "cells": [
  {
   "cell_type": "markdown",
   "metadata": {},
   "source": [
    "# Predicción de sueldos\n",
    "\n",
    "El objetivo de este notebook es hacer un modelo sencillo que pueda estimar el sueldo de una persona respondiendo una encuesta como la de sysarmy, usando los datos de principios de 2020."
   ]
  },
  {
   "cell_type": "markdown",
   "metadata": {},
   "source": [
    "## Baseline\n",
    "\n",
    "Vamos a tomar un modelo de base para ver cuánto podemos mejorarlo. En análisis previos vimos que las tres características que más definen el sueldo son el género, la ubicación y cuánta gente a cargo tiene la persona. Vamos a hacer un modelo que dada estas tres características memorice el promedio de los valores vistos y estime eso. En caso de ser una combinación no vista puede devolver el promedio general."
   ]
  },
  {
   "cell_type": "code",
   "execution_count": 90,
   "metadata": {},
   "outputs": [],
   "source": [
    "import math\n",
    "import pandas as pd\n",
    "import geopandas as gpd\n",
    "import matplotlib.pyplot as plt\n",
    "from sklearn.model_selection import cross_val_score\n",
    "from sklearn.metrics import r2_score\n",
    "from sklearn.linear_model import LinearRegression\n",
    "from gensim.models.doc2vec import Doc2Vec, TaggedDocument\n",
    "from sklearn.manifold import TSNE\n",
    "import xgboost as xgb\n",
    "%matplotlib inline"
   ]
  },
  {
   "cell_type": "code",
   "execution_count": 2,
   "metadata": {},
   "outputs": [
    {
     "data": {
      "text/html": [
       "<div>\n",
       "<style scoped>\n",
       "    .dataframe tbody tr th:only-of-type {\n",
       "        vertical-align: middle;\n",
       "    }\n",
       "\n",
       "    .dataframe tbody tr th {\n",
       "        vertical-align: top;\n",
       "    }\n",
       "\n",
       "    .dataframe thead th {\n",
       "        text-align: right;\n",
       "    }\n",
       "</style>\n",
       "<table border=\"1\" class=\"dataframe\">\n",
       "  <thead>\n",
       "    <tr style=\"text-align: right;\">\n",
       "      <th></th>\n",
       "      <th>Me identifico</th>\n",
       "      <th>Tengo</th>\n",
       "      <th>Dónde estás trabajando</th>\n",
       "      <th>Años de experiencia</th>\n",
       "      <th>Años en la empresa actual</th>\n",
       "      <th>Años en el puesto actual</th>\n",
       "      <th>¿Gente a cargo?</th>\n",
       "      <th>Nivel de estudios alcanzado</th>\n",
       "      <th>Estado</th>\n",
       "      <th>Carrera</th>\n",
       "      <th>...</th>\n",
       "      <th>¿Tenés algún tipo de discapacidad?</th>\n",
       "      <th>¿Sentís que esto te dificultó el conseguir trabajo?</th>\n",
       "      <th>¿A qué eventos de tecnología asististe en el último año?</th>\n",
       "      <th>Cantidad de empleados</th>\n",
       "      <th>Actividad principal</th>\n",
       "      <th>¿La recomendás como un buen lugar para trabajar?</th>\n",
       "      <th>¿Cómo calificás las políticas de diversidad e inclusión?</th>\n",
       "      <th>¿A cuántos kilómetros de tu casa queda la oficina?</th>\n",
       "      <th>Beneficios extra</th>\n",
       "      <th>¿Cuáles considerás que son las mejores empresas de IT para trabajar en este momento, en tu ciudad?</th>\n",
       "    </tr>\n",
       "  </thead>\n",
       "  <tbody>\n",
       "    <tr>\n",
       "      <th>0</th>\n",
       "      <td>Hombre</td>\n",
       "      <td>40</td>\n",
       "      <td>Catamarca</td>\n",
       "      <td>15.0</td>\n",
       "      <td>0.0</td>\n",
       "      <td>0.0</td>\n",
       "      <td>0</td>\n",
       "      <td>Universitario</td>\n",
       "      <td>Completado</td>\n",
       "      <td>Licenciatura en Sistemas de Información</td>\n",
       "      <td>...</td>\n",
       "      <td>NaN</td>\n",
       "      <td>NaN</td>\n",
       "      <td>NaN</td>\n",
       "      <td>201-500</td>\n",
       "      <td>Otras industrias</td>\n",
       "      <td>6</td>\n",
       "      <td>6</td>\n",
       "      <td>4.0</td>\n",
       "      <td>Comidas pagas / subvencionadas, Estacionamient...</td>\n",
       "      <td>NaN</td>\n",
       "    </tr>\n",
       "    <tr>\n",
       "      <th>1</th>\n",
       "      <td>Mujer</td>\n",
       "      <td>35</td>\n",
       "      <td>Catamarca</td>\n",
       "      <td>15.0</td>\n",
       "      <td>10.0</td>\n",
       "      <td>3.0</td>\n",
       "      <td>5</td>\n",
       "      <td>Posgrado</td>\n",
       "      <td>Completado</td>\n",
       "      <td>Licenciatura en Sistemas de Información</td>\n",
       "      <td>...</td>\n",
       "      <td>NaN</td>\n",
       "      <td>No</td>\n",
       "      <td>NaN</td>\n",
       "      <td>11-50</td>\n",
       "      <td>Servicios / Consultoría de Software / Digital</td>\n",
       "      <td>5</td>\n",
       "      <td>8</td>\n",
       "      <td>2.0</td>\n",
       "      <td>Abono de celular y/o Internet</td>\n",
       "      <td>NaN</td>\n",
       "    </tr>\n",
       "    <tr>\n",
       "      <th>2</th>\n",
       "      <td>Hombre</td>\n",
       "      <td>39</td>\n",
       "      <td>Chaco</td>\n",
       "      <td>10.0</td>\n",
       "      <td>5.0</td>\n",
       "      <td>5.0</td>\n",
       "      <td>6</td>\n",
       "      <td>Universitario</td>\n",
       "      <td>Incompleto</td>\n",
       "      <td>Ingeniería en Sistemas de Información</td>\n",
       "      <td>...</td>\n",
       "      <td>NaN</td>\n",
       "      <td>NaN</td>\n",
       "      <td>Ekoparty</td>\n",
       "      <td>11-50</td>\n",
       "      <td>Servicios / Consultoría de Software / Digital</td>\n",
       "      <td>10</td>\n",
       "      <td>10</td>\n",
       "      <td>1.0</td>\n",
       "      <td>Capacitaciones y/o cursos, Clases de idiomas, ...</td>\n",
       "      <td>NaN</td>\n",
       "    </tr>\n",
       "    <tr>\n",
       "      <th>3</th>\n",
       "      <td>Hombre</td>\n",
       "      <td>42</td>\n",
       "      <td>Chaco</td>\n",
       "      <td>18.0</td>\n",
       "      <td>3.0</td>\n",
       "      <td>3.0</td>\n",
       "      <td>0</td>\n",
       "      <td>Universitario</td>\n",
       "      <td>Completado</td>\n",
       "      <td>Licenciatura en Análisis de Sistemas</td>\n",
       "      <td>...</td>\n",
       "      <td>NaN</td>\n",
       "      <td>No</td>\n",
       "      <td>NaN</td>\n",
       "      <td>11-50</td>\n",
       "      <td>Producto basado en Software</td>\n",
       "      <td>5</td>\n",
       "      <td>3</td>\n",
       "      <td>-1.0</td>\n",
       "      <td>Horarios flexibles, Sueldo dolarizado, WFH (Tr...</td>\n",
       "      <td>NaN</td>\n",
       "    </tr>\n",
       "    <tr>\n",
       "      <th>4</th>\n",
       "      <td>Hombre</td>\n",
       "      <td>29</td>\n",
       "      <td>Chaco</td>\n",
       "      <td>4.0</td>\n",
       "      <td>0.0</td>\n",
       "      <td>0.0</td>\n",
       "      <td>1</td>\n",
       "      <td>Universitario</td>\n",
       "      <td>Completado</td>\n",
       "      <td>Ingeniería Electrónica</td>\n",
       "      <td>...</td>\n",
       "      <td>NaN</td>\n",
       "      <td>NaN</td>\n",
       "      <td>Pynea, Autodefensa digital</td>\n",
       "      <td>201-500</td>\n",
       "      <td>Otras industrias</td>\n",
       "      <td>8</td>\n",
       "      <td>9</td>\n",
       "      <td>5.0</td>\n",
       "      <td>Abono de celular y/o Internet, Comidas pagas /...</td>\n",
       "      <td>NaN</td>\n",
       "    </tr>\n",
       "  </tbody>\n",
       "</table>\n",
       "<p>5 rows × 48 columns</p>\n",
       "</div>"
      ],
      "text/plain": [
       "  Me identifico  Tengo Dónde estás trabajando  Años de experiencia  \\\n",
       "0        Hombre     40              Catamarca                 15.0   \n",
       "1         Mujer     35              Catamarca                 15.0   \n",
       "2        Hombre     39                  Chaco                 10.0   \n",
       "3        Hombre     42                  Chaco                 18.0   \n",
       "4        Hombre     29                  Chaco                  4.0   \n",
       "\n",
       "   Años en la empresa actual  Años en el puesto actual ¿Gente a cargo?  \\\n",
       "0                        0.0                       0.0               0   \n",
       "1                       10.0                       3.0               5   \n",
       "2                        5.0                       5.0               6   \n",
       "3                        3.0                       3.0               0   \n",
       "4                        0.0                       0.0               1   \n",
       "\n",
       "  Nivel de estudios alcanzado      Estado  \\\n",
       "0               Universitario  Completado   \n",
       "1                    Posgrado  Completado   \n",
       "2               Universitario  Incompleto   \n",
       "3               Universitario  Completado   \n",
       "4               Universitario  Completado   \n",
       "\n",
       "                                   Carrera  ...  \\\n",
       "0  Licenciatura en Sistemas de Información  ...   \n",
       "1  Licenciatura en Sistemas de Información  ...   \n",
       "2    Ingeniería en Sistemas de Información  ...   \n",
       "3     Licenciatura en Análisis de Sistemas  ...   \n",
       "4                   Ingeniería Electrónica  ...   \n",
       "\n",
       "  ¿Tenés algún tipo de discapacidad?  \\\n",
       "0                                NaN   \n",
       "1                                NaN   \n",
       "2                                NaN   \n",
       "3                                NaN   \n",
       "4                                NaN   \n",
       "\n",
       "  ¿Sentís que esto te dificultó el conseguir trabajo?  \\\n",
       "0                                                NaN    \n",
       "1                                                 No    \n",
       "2                                                NaN    \n",
       "3                                                 No    \n",
       "4                                                NaN    \n",
       "\n",
       "  ¿A qué eventos de tecnología asististe en el último año?  \\\n",
       "0                                                NaN         \n",
       "1                                                NaN         \n",
       "2                                           Ekoparty         \n",
       "3                                                NaN         \n",
       "4                        Pynea, Autodefensa digital          \n",
       "\n",
       "  Cantidad de empleados                            Actividad principal  \\\n",
       "0               201-500                               Otras industrias   \n",
       "1                 11-50  Servicios / Consultoría de Software / Digital   \n",
       "2                 11-50  Servicios / Consultoría de Software / Digital   \n",
       "3                 11-50                    Producto basado en Software   \n",
       "4               201-500                               Otras industrias   \n",
       "\n",
       "  ¿La recomendás como un buen lugar para trabajar?  \\\n",
       "0                                                6   \n",
       "1                                                5   \n",
       "2                                               10   \n",
       "3                                                5   \n",
       "4                                                8   \n",
       "\n",
       "  ¿Cómo calificás las políticas de diversidad e inclusión?  \\\n",
       "0                                                  6         \n",
       "1                                                  8         \n",
       "2                                                 10         \n",
       "3                                                  3         \n",
       "4                                                  9         \n",
       "\n",
       "  ¿A cuántos kilómetros de tu casa queda la oficina?  \\\n",
       "0                                                4.0   \n",
       "1                                                2.0   \n",
       "2                                                1.0   \n",
       "3                                               -1.0   \n",
       "4                                                5.0   \n",
       "\n",
       "                                    Beneficios extra  \\\n",
       "0  Comidas pagas / subvencionadas, Estacionamient...   \n",
       "1                      Abono de celular y/o Internet   \n",
       "2  Capacitaciones y/o cursos, Clases de idiomas, ...   \n",
       "3  Horarios flexibles, Sueldo dolarizado, WFH (Tr...   \n",
       "4  Abono de celular y/o Internet, Comidas pagas /...   \n",
       "\n",
       "  ¿Cuáles considerás que son las mejores empresas de IT para trabajar en este momento, en tu ciudad?  \n",
       "0                                                NaN                                                  \n",
       "1                                                NaN                                                  \n",
       "2                                                NaN                                                  \n",
       "3                                                NaN                                                  \n",
       "4                                                NaN                                                  \n",
       "\n",
       "[5 rows x 48 columns]"
      ]
     },
     "execution_count": 2,
     "metadata": {},
     "output_type": "execute_result"
    }
   ],
   "source": [
    "df = pd.read_csv('2020.1 - sysarmy - Encuesta de remuneración salarial Argentina - Argentina.csv', skiprows=9)\n",
    "df.head()"
   ]
  },
  {
   "cell_type": "code",
   "execution_count": 3,
   "metadata": {},
   "outputs": [
    {
     "data": {
      "text/plain": [
       "Index(['Me identifico', 'Tengo', 'Dónde estás trabajando',\n",
       "       'Años de experiencia', 'Años en la empresa actual',\n",
       "       'Años en el puesto actual', '¿Gente a cargo?',\n",
       "       'Nivel de estudios alcanzado', 'Estado', 'Carrera', 'Universidad',\n",
       "       'Realizaste cursos de especialización',\n",
       "       '¿Contribuís a proyectos open source?', '¿Programás como hobbie?',\n",
       "       'Trabajo de', 'Plataformas', 'Lenguajes de programación',\n",
       "       'Frameworks, herramientas y librerías', 'Bases de datos',\n",
       "       'QA / Testing', 'IDEs', '¿Qué SO usás en tu laptop/PC para trabajar?',\n",
       "       '¿Y en tu celular?', '¿Tenés guardias?', 'Cuánto cobrás por guardia',\n",
       "       '¿Porcentaje, bruto o neto?', 'Tipo de contrato',\n",
       "       'Salario mensual BRUTO (en tu moneda local)',\n",
       "       'Salario mensual NETO (en tu moneda local)',\n",
       "       '¿Qué tan conforme estás con tu sueldo?',\n",
       "       'Cómo creés que está tu sueldo con respecto al último semestre',\n",
       "       'Recibís algún tipo de bono', 'A qué está atado el bono',\n",
       "       '¿Tuviste ajustes por inflación en 2019?',\n",
       "       '¿De qué % fue el ajuste total?', '¿En qué mes fue el último ajuste?',\n",
       "       '¿Sufriste o presenciaste situaciones de violencia laboral?',\n",
       "       'Orientación sexual', '¿Tenés algún tipo de discapacidad?',\n",
       "       '¿Sentís que esto te dificultó el conseguir trabajo?',\n",
       "       '¿A qué eventos de tecnología asististe en el último año?',\n",
       "       'Cantidad de empleados', 'Actividad principal',\n",
       "       '¿La recomendás como un buen lugar para trabajar?',\n",
       "       '¿Cómo calificás las políticas de diversidad e inclusión?',\n",
       "       '¿A cuántos kilómetros de tu casa queda la oficina?',\n",
       "       'Beneficios extra',\n",
       "       '¿Cuáles considerás que son las mejores empresas de IT para trabajar en este momento, en tu ciudad?'],\n",
       "      dtype='object')"
      ]
     },
     "execution_count": 3,
     "metadata": {},
     "output_type": "execute_result"
    }
   ],
   "source": [
    "df.T.index"
   ]
  },
  {
   "cell_type": "code",
   "execution_count": 4,
   "metadata": {},
   "outputs": [
    {
     "data": {
      "text/html": [
       "<div>\n",
       "<style scoped>\n",
       "    .dataframe tbody tr th:only-of-type {\n",
       "        vertical-align: middle;\n",
       "    }\n",
       "\n",
       "    .dataframe tbody tr th {\n",
       "        vertical-align: top;\n",
       "    }\n",
       "\n",
       "    .dataframe thead th {\n",
       "        text-align: right;\n",
       "    }\n",
       "</style>\n",
       "<table border=\"1\" class=\"dataframe\">\n",
       "  <thead>\n",
       "    <tr style=\"text-align: right;\">\n",
       "      <th></th>\n",
       "      <th>Me identifico</th>\n",
       "      <th>Dónde estás trabajando</th>\n",
       "      <th>¿Gente a cargo?</th>\n",
       "    </tr>\n",
       "  </thead>\n",
       "  <tbody>\n",
       "    <tr>\n",
       "      <th>0</th>\n",
       "      <td>Hombre</td>\n",
       "      <td>Catamarca</td>\n",
       "      <td>0</td>\n",
       "    </tr>\n",
       "    <tr>\n",
       "      <th>1</th>\n",
       "      <td>Mujer</td>\n",
       "      <td>Catamarca</td>\n",
       "      <td>5</td>\n",
       "    </tr>\n",
       "    <tr>\n",
       "      <th>2</th>\n",
       "      <td>Hombre</td>\n",
       "      <td>Chaco</td>\n",
       "      <td>6</td>\n",
       "    </tr>\n",
       "    <tr>\n",
       "      <th>3</th>\n",
       "      <td>Hombre</td>\n",
       "      <td>Chaco</td>\n",
       "      <td>0</td>\n",
       "    </tr>\n",
       "    <tr>\n",
       "      <th>4</th>\n",
       "      <td>Hombre</td>\n",
       "      <td>Chaco</td>\n",
       "      <td>1</td>\n",
       "    </tr>\n",
       "    <tr>\n",
       "      <th>...</th>\n",
       "      <td>...</td>\n",
       "      <td>...</td>\n",
       "      <td>...</td>\n",
       "    </tr>\n",
       "    <tr>\n",
       "      <th>5977</th>\n",
       "      <td>Hombre</td>\n",
       "      <td>Tucumán</td>\n",
       "      <td>0</td>\n",
       "    </tr>\n",
       "    <tr>\n",
       "      <th>5978</th>\n",
       "      <td>Hombre</td>\n",
       "      <td>Tucumán</td>\n",
       "      <td>1</td>\n",
       "    </tr>\n",
       "    <tr>\n",
       "      <th>5979</th>\n",
       "      <td>Hombre</td>\n",
       "      <td>Tucumán</td>\n",
       "      <td>0</td>\n",
       "    </tr>\n",
       "    <tr>\n",
       "      <th>5980</th>\n",
       "      <td>Mujer</td>\n",
       "      <td>Tucumán</td>\n",
       "      <td>6</td>\n",
       "    </tr>\n",
       "    <tr>\n",
       "      <th>5981</th>\n",
       "      <td>Mujer</td>\n",
       "      <td>Tucumán</td>\n",
       "      <td>0</td>\n",
       "    </tr>\n",
       "  </tbody>\n",
       "</table>\n",
       "<p>5982 rows × 3 columns</p>\n",
       "</div>"
      ],
      "text/plain": [
       "     Me identifico Dónde estás trabajando ¿Gente a cargo?\n",
       "0           Hombre              Catamarca               0\n",
       "1            Mujer              Catamarca               5\n",
       "2           Hombre                  Chaco               6\n",
       "3           Hombre                  Chaco               0\n",
       "4           Hombre                  Chaco               1\n",
       "...            ...                    ...             ...\n",
       "5977        Hombre                Tucumán               0\n",
       "5978        Hombre                Tucumán               1\n",
       "5979        Hombre                Tucumán               0\n",
       "5980         Mujer                Tucumán               6\n",
       "5981         Mujer                Tucumán               0\n",
       "\n",
       "[5982 rows x 3 columns]"
      ]
     },
     "execution_count": 4,
     "metadata": {},
     "output_type": "execute_result"
    }
   ],
   "source": [
    "df[['Me identifico', 'Dónde estás trabajando', '¿Gente a cargo?']]"
   ]
  },
  {
   "cell_type": "code",
   "execution_count": 5,
   "metadata": {},
   "outputs": [
    {
     "data": {
      "text/plain": [
       "Me identifico\n",
       "Hombre    5081\n",
       "Mujer      872\n",
       "Otros       29\n",
       "dtype: int64"
      ]
     },
     "execution_count": 5,
     "metadata": {},
     "output_type": "execute_result"
    }
   ],
   "source": [
    "df.groupby('Me identifico').size()"
   ]
  },
  {
   "cell_type": "code",
   "execution_count": 6,
   "metadata": {},
   "outputs": [
    {
     "data": {
      "text/plain": [
       "Dónde estás trabajando\n",
       "Catamarca                             2\n",
       "Chaco                                33\n",
       "Chubut                               22\n",
       "Ciudad Autónoma de Buenos Aires    4105\n",
       "Corrientes                           16\n",
       "Córdoba                             316\n",
       "Entre Ríos                           41\n",
       "Formosa                               3\n",
       "GBA                                 432\n",
       "Jujuy                                15\n",
       "La Pampa                              2\n",
       "La Rioja                              8\n",
       "Mendoza                             112\n",
       "Misiones                             22\n",
       "Neuquén                              26\n",
       "Provincia de Buenos Aires           457\n",
       "Río Negro                            23\n",
       "Salta                                10\n",
       "San Juan                              6\n",
       "San Luis                              6\n",
       "Santa Cruz                            2\n",
       "Santa Fe                            287\n",
       "Santiago del Estero                   4\n",
       "Tierra del Fuego                      5\n",
       "Tucumán                              27\n",
       "dtype: int64"
      ]
     },
     "execution_count": 6,
     "metadata": {},
     "output_type": "execute_result"
    }
   ],
   "source": [
    "df.groupby('Dónde estás trabajando').size()"
   ]
  },
  {
   "cell_type": "code",
   "execution_count": 7,
   "metadata": {},
   "outputs": [
    {
     "data": {
      "text/plain": [
       "¿Gente a cargo?\n",
       "0                            4479\n",
       "1                             278\n",
       "10                             72\n",
       "100                             2\n",
       "105                             1\n",
       "11                              9\n",
       "110                             1\n",
       "12                             21\n",
       "120                             1\n",
       "13                              7\n",
       "130                             1\n",
       "14                             15\n",
       "15                             32\n",
       "150                             1\n",
       "1555555555555555555555555       1\n",
       "16                              4\n",
       "160                             1\n",
       "17                              2\n",
       "18                              6\n",
       "19                              3\n",
       "2                             274\n",
       "20                             33\n",
       "200                             2\n",
       "21                              1\n",
       "22                              4\n",
       "23                              2\n",
       "230                             1\n",
       "24                              2\n",
       "25                              7\n",
       "250                             1\n",
       "26                              2\n",
       "27                              1\n",
       "28                              2\n",
       "3                             185\n",
       "30                             16\n",
       "300                             1\n",
       "33                              1\n",
       "35                              7\n",
       "36                              2\n",
       "38                              2\n",
       "4                             130\n",
       "40                              7\n",
       "44                              1\n",
       "46                              1\n",
       "5                             145\n",
       "50                             10\n",
       "51                              1\n",
       "6                              73\n",
       "60                              8\n",
       "600                             1\n",
       "65                              1\n",
       "650                             1\n",
       "7                              41\n",
       "70                              5\n",
       "75                              1\n",
       "8                              46\n",
       "80                              2\n",
       "82                              1\n",
       "85                              1\n",
       "9                              23\n",
       "dtype: int64"
      ]
     },
     "execution_count": 7,
     "metadata": {},
     "output_type": "execute_result"
    }
   ],
   "source": [
    "df.groupby('¿Gente a cargo?').size()"
   ]
  },
  {
   "cell_type": "markdown",
   "metadata": {},
   "source": [
    "El género y provincia son variables categóricas, es decir que pueden obtener un conjunto de valores, mientras que gente a cargo es un número. Vemos también que algunas categorías tienen pocos datos, como género no binario o la provincia de Catamarca. En general esto va a ser un problema porque no va a generalizar muy bien ningún modelo con tan poca información.\n",
    "\n",
    "Veamos si podemos agrupar estos."
   ]
  },
  {
   "cell_type": "code",
   "execution_count": 8,
   "metadata": {},
   "outputs": [
    {
     "data": {
      "text/html": [
       "<div>\n",
       "<style scoped>\n",
       "    .dataframe tbody tr th:only-of-type {\n",
       "        vertical-align: middle;\n",
       "    }\n",
       "\n",
       "    .dataframe tbody tr th {\n",
       "        vertical-align: top;\n",
       "    }\n",
       "\n",
       "    .dataframe thead th {\n",
       "        text-align: right;\n",
       "    }\n",
       "</style>\n",
       "<table border=\"1\" class=\"dataframe\">\n",
       "  <thead>\n",
       "    <tr style=\"text-align: right;\">\n",
       "      <th></th>\n",
       "      <th>Salario mensual BRUTO (en tu moneda local)</th>\n",
       "    </tr>\n",
       "    <tr>\n",
       "      <th>Me identifico</th>\n",
       "      <th></th>\n",
       "    </tr>\n",
       "  </thead>\n",
       "  <tbody>\n",
       "    <tr>\n",
       "      <th>Hombre</th>\n",
       "      <td>75000.0</td>\n",
       "    </tr>\n",
       "    <tr>\n",
       "      <th>Mujer</th>\n",
       "      <td>60000.0</td>\n",
       "    </tr>\n",
       "    <tr>\n",
       "      <th>Otros</th>\n",
       "      <td>55000.0</td>\n",
       "    </tr>\n",
       "  </tbody>\n",
       "</table>\n",
       "</div>"
      ],
      "text/plain": [
       "               Salario mensual BRUTO (en tu moneda local)\n",
       "Me identifico                                            \n",
       "Hombre                                            75000.0\n",
       "Mujer                                             60000.0\n",
       "Otros                                             55000.0"
      ]
     },
     "execution_count": 8,
     "metadata": {},
     "output_type": "execute_result"
    }
   ],
   "source": [
    "df[['Me identifico', 'Salario mensual BRUTO (en tu moneda local)']].groupby('Me identifico').median()"
   ]
  },
  {
   "cell_type": "code",
   "execution_count": 9,
   "metadata": {},
   "outputs": [
    {
     "data": {
      "text/html": [
       "<div>\n",
       "<style scoped>\n",
       "    .dataframe tbody tr th:only-of-type {\n",
       "        vertical-align: middle;\n",
       "    }\n",
       "\n",
       "    .dataframe tbody tr th {\n",
       "        vertical-align: top;\n",
       "    }\n",
       "\n",
       "    .dataframe thead tr th {\n",
       "        text-align: left;\n",
       "    }\n",
       "\n",
       "    .dataframe thead tr:last-of-type th {\n",
       "        text-align: right;\n",
       "    }\n",
       "</style>\n",
       "<table border=\"1\" class=\"dataframe\">\n",
       "  <thead>\n",
       "    <tr>\n",
       "      <th></th>\n",
       "      <th colspan=\"2\" halign=\"left\">Salario mensual BRUTO (en tu moneda local)</th>\n",
       "    </tr>\n",
       "    <tr>\n",
       "      <th></th>\n",
       "      <th>median</th>\n",
       "      <th>count</th>\n",
       "    </tr>\n",
       "    <tr>\n",
       "      <th>Dónde estás trabajando</th>\n",
       "      <th></th>\n",
       "      <th></th>\n",
       "    </tr>\n",
       "  </thead>\n",
       "  <tbody>\n",
       "    <tr>\n",
       "      <th>Santiago del Estero</th>\n",
       "      <td>41500.000</td>\n",
       "      <td>4</td>\n",
       "    </tr>\n",
       "    <tr>\n",
       "      <th>Corrientes</th>\n",
       "      <td>42100.000</td>\n",
       "      <td>16</td>\n",
       "    </tr>\n",
       "    <tr>\n",
       "      <th>La Rioja</th>\n",
       "      <td>43500.000</td>\n",
       "      <td>8</td>\n",
       "    </tr>\n",
       "    <tr>\n",
       "      <th>Jujuy</th>\n",
       "      <td>45000.000</td>\n",
       "      <td>15</td>\n",
       "    </tr>\n",
       "    <tr>\n",
       "      <th>Misiones</th>\n",
       "      <td>46000.000</td>\n",
       "      <td>22</td>\n",
       "    </tr>\n",
       "    <tr>\n",
       "      <th>Catamarca</th>\n",
       "      <td>50500.000</td>\n",
       "      <td>2</td>\n",
       "    </tr>\n",
       "    <tr>\n",
       "      <th>Mendoza</th>\n",
       "      <td>55000.000</td>\n",
       "      <td>112</td>\n",
       "    </tr>\n",
       "    <tr>\n",
       "      <th>Santa Cruz</th>\n",
       "      <td>57500.000</td>\n",
       "      <td>2</td>\n",
       "    </tr>\n",
       "    <tr>\n",
       "      <th>Entre Ríos</th>\n",
       "      <td>59000.000</td>\n",
       "      <td>41</td>\n",
       "    </tr>\n",
       "    <tr>\n",
       "      <th>Neuquén</th>\n",
       "      <td>62500.000</td>\n",
       "      <td>26</td>\n",
       "    </tr>\n",
       "    <tr>\n",
       "      <th>Provincia de Buenos Aires</th>\n",
       "      <td>65000.000</td>\n",
       "      <td>457</td>\n",
       "    </tr>\n",
       "    <tr>\n",
       "      <th>Chaco</th>\n",
       "      <td>65784.000</td>\n",
       "      <td>33</td>\n",
       "    </tr>\n",
       "    <tr>\n",
       "      <th>Tucumán</th>\n",
       "      <td>66000.000</td>\n",
       "      <td>27</td>\n",
       "    </tr>\n",
       "    <tr>\n",
       "      <th>GBA</th>\n",
       "      <td>66154.500</td>\n",
       "      <td>432</td>\n",
       "    </tr>\n",
       "    <tr>\n",
       "      <th>Salta</th>\n",
       "      <td>66950.500</td>\n",
       "      <td>10</td>\n",
       "    </tr>\n",
       "    <tr>\n",
       "      <th>Córdoba</th>\n",
       "      <td>72500.000</td>\n",
       "      <td>316</td>\n",
       "    </tr>\n",
       "    <tr>\n",
       "      <th>San Juan</th>\n",
       "      <td>72667.375</td>\n",
       "      <td>6</td>\n",
       "    </tr>\n",
       "    <tr>\n",
       "      <th>Santa Fe</th>\n",
       "      <td>73000.000</td>\n",
       "      <td>287</td>\n",
       "    </tr>\n",
       "    <tr>\n",
       "      <th>Ciudad Autónoma de Buenos Aires</th>\n",
       "      <td>75000.000</td>\n",
       "      <td>4105</td>\n",
       "    </tr>\n",
       "    <tr>\n",
       "      <th>Río Negro</th>\n",
       "      <td>78000.000</td>\n",
       "      <td>23</td>\n",
       "    </tr>\n",
       "    <tr>\n",
       "      <th>Formosa</th>\n",
       "      <td>80000.000</td>\n",
       "      <td>3</td>\n",
       "    </tr>\n",
       "    <tr>\n",
       "      <th>Chubut</th>\n",
       "      <td>83000.000</td>\n",
       "      <td>22</td>\n",
       "    </tr>\n",
       "    <tr>\n",
       "      <th>San Luis</th>\n",
       "      <td>97000.000</td>\n",
       "      <td>6</td>\n",
       "    </tr>\n",
       "    <tr>\n",
       "      <th>La Pampa</th>\n",
       "      <td>105250.000</td>\n",
       "      <td>2</td>\n",
       "    </tr>\n",
       "    <tr>\n",
       "      <th>Tierra del Fuego</th>\n",
       "      <td>120000.000</td>\n",
       "      <td>5</td>\n",
       "    </tr>\n",
       "  </tbody>\n",
       "</table>\n",
       "</div>"
      ],
      "text/plain": [
       "                                Salario mensual BRUTO (en tu moneda local)  \\\n",
       "                                                                    median   \n",
       "Dónde estás trabajando                                                       \n",
       "Santiago del Estero                                              41500.000   \n",
       "Corrientes                                                       42100.000   \n",
       "La Rioja                                                         43500.000   \n",
       "Jujuy                                                            45000.000   \n",
       "Misiones                                                         46000.000   \n",
       "Catamarca                                                        50500.000   \n",
       "Mendoza                                                          55000.000   \n",
       "Santa Cruz                                                       57500.000   \n",
       "Entre Ríos                                                       59000.000   \n",
       "Neuquén                                                          62500.000   \n",
       "Provincia de Buenos Aires                                        65000.000   \n",
       "Chaco                                                            65784.000   \n",
       "Tucumán                                                          66000.000   \n",
       "GBA                                                              66154.500   \n",
       "Salta                                                            66950.500   \n",
       "Córdoba                                                          72500.000   \n",
       "San Juan                                                         72667.375   \n",
       "Santa Fe                                                         73000.000   \n",
       "Ciudad Autónoma de Buenos Aires                                  75000.000   \n",
       "Río Negro                                                        78000.000   \n",
       "Formosa                                                          80000.000   \n",
       "Chubut                                                           83000.000   \n",
       "San Luis                                                         97000.000   \n",
       "La Pampa                                                        105250.000   \n",
       "Tierra del Fuego                                                120000.000   \n",
       "\n",
       "                                       \n",
       "                                count  \n",
       "Dónde estás trabajando                 \n",
       "Santiago del Estero                 4  \n",
       "Corrientes                         16  \n",
       "La Rioja                            8  \n",
       "Jujuy                              15  \n",
       "Misiones                           22  \n",
       "Catamarca                           2  \n",
       "Mendoza                           112  \n",
       "Santa Cruz                          2  \n",
       "Entre Ríos                         41  \n",
       "Neuquén                            26  \n",
       "Provincia de Buenos Aires         457  \n",
       "Chaco                              33  \n",
       "Tucumán                            27  \n",
       "GBA                               432  \n",
       "Salta                              10  \n",
       "Córdoba                           316  \n",
       "San Juan                            6  \n",
       "Santa Fe                          287  \n",
       "Ciudad Autónoma de Buenos Aires  4105  \n",
       "Río Negro                          23  \n",
       "Formosa                             3  \n",
       "Chubut                             22  \n",
       "San Luis                            6  \n",
       "La Pampa                            2  \n",
       "Tierra del Fuego                    5  "
      ]
     },
     "execution_count": 9,
     "metadata": {},
     "output_type": "execute_result"
    }
   ],
   "source": [
    "df_provinces = df[['Dónde estás trabajando', 'Salario mensual BRUTO (en tu moneda local)']].groupby('Dónde estás trabajando').agg(['median', 'count']).sort_values(('Salario mensual BRUTO (en tu moneda local)', 'median'))\n",
    "df_provinces"
   ]
  },
  {
   "cell_type": "code",
   "execution_count": 10,
   "metadata": {},
   "outputs": [
    {
     "data": {
      "text/html": [
       "<div>\n",
       "<style scoped>\n",
       "    .dataframe tbody tr th:only-of-type {\n",
       "        vertical-align: middle;\n",
       "    }\n",
       "\n",
       "    .dataframe tbody tr th {\n",
       "        vertical-align: top;\n",
       "    }\n",
       "\n",
       "    .dataframe thead th {\n",
       "        text-align: right;\n",
       "    }\n",
       "</style>\n",
       "<table border=\"1\" class=\"dataframe\">\n",
       "  <thead>\n",
       "    <tr style=\"text-align: right;\">\n",
       "      <th></th>\n",
       "      <th>cartodb_id</th>\n",
       "      <th>description</th>\n",
       "      <th>name</th>\n",
       "      <th>provincia</th>\n",
       "      <th>id</th>\n",
       "      <th>codpcia</th>\n",
       "      <th>c_indec</th>\n",
       "      <th>id_dyp</th>\n",
       "      <th>geometry</th>\n",
       "    </tr>\n",
       "  </thead>\n",
       "  <tbody>\n",
       "    <tr>\n",
       "      <th>0</th>\n",
       "      <td>1</td>\n",
       "      <td></td>\n",
       "      <td></td>\n",
       "      <td>Ciudad Autónoma de Buenos Aires</td>\n",
       "      <td>1</td>\n",
       "      <td>1</td>\n",
       "      <td>2</td>\n",
       "      <td>1</td>\n",
       "      <td>MULTIPOLYGON (((-58.39007 -34.66230, -58.39037...</td>\n",
       "    </tr>\n",
       "    <tr>\n",
       "      <th>1</th>\n",
       "      <td>3</td>\n",
       "      <td></td>\n",
       "      <td></td>\n",
       "      <td>Catamarca</td>\n",
       "      <td>3</td>\n",
       "      <td>3</td>\n",
       "      <td>10</td>\n",
       "      <td>4</td>\n",
       "      <td>MULTIPOLYGON (((-66.59111 -26.17318, -66.58961...</td>\n",
       "    </tr>\n",
       "    <tr>\n",
       "      <th>2</th>\n",
       "      <td>4</td>\n",
       "      <td></td>\n",
       "      <td></td>\n",
       "      <td>Chaco</td>\n",
       "      <td>4</td>\n",
       "      <td>4</td>\n",
       "      <td>22</td>\n",
       "      <td>6</td>\n",
       "      <td>MULTIPOLYGON (((-62.34757 -24.11021, -62.34407...</td>\n",
       "    </tr>\n",
       "    <tr>\n",
       "      <th>3</th>\n",
       "      <td>5</td>\n",
       "      <td></td>\n",
       "      <td></td>\n",
       "      <td>Chubut</td>\n",
       "      <td>5</td>\n",
       "      <td>5</td>\n",
       "      <td>26</td>\n",
       "      <td>7</td>\n",
       "      <td>MULTIPOLYGON (((-71.77158 -41.99955, -71.67446...</td>\n",
       "    </tr>\n",
       "    <tr>\n",
       "      <th>4</th>\n",
       "      <td>7</td>\n",
       "      <td></td>\n",
       "      <td></td>\n",
       "      <td>Corrientes</td>\n",
       "      <td>7</td>\n",
       "      <td>7</td>\n",
       "      <td>18</td>\n",
       "      <td>5</td>\n",
       "      <td>MULTIPOLYGON (((-58.89298 -27.99935, -58.89182...</td>\n",
       "    </tr>\n",
       "  </tbody>\n",
       "</table>\n",
       "</div>"
      ],
      "text/plain": [
       "   cartodb_id description name                        provincia  id  codpcia  \\\n",
       "0           1                   Ciudad Autónoma de Buenos Aires   1        1   \n",
       "1           3                                         Catamarca   3        3   \n",
       "2           4                                             Chaco   4        4   \n",
       "3           5                                            Chubut   5        5   \n",
       "4           7                                        Corrientes   7        7   \n",
       "\n",
       "   c_indec  id_dyp                                           geometry  \n",
       "0        2       1  MULTIPOLYGON (((-58.39007 -34.66230, -58.39037...  \n",
       "1       10       4  MULTIPOLYGON (((-66.59111 -26.17318, -66.58961...  \n",
       "2       22       6  MULTIPOLYGON (((-62.34757 -24.11021, -62.34407...  \n",
       "3       26       7  MULTIPOLYGON (((-71.77158 -41.99955, -71.67446...  \n",
       "4       18       5  MULTIPOLYGON (((-58.89298 -27.99935, -58.89182...  "
      ]
     },
     "execution_count": 10,
     "metadata": {},
     "output_type": "execute_result"
    }
   ],
   "source": [
    "provinces_geo = gpd.read_file('provincias_argentinas_polygon.geojson')\n",
    "provinces_geo.head()"
   ]
  },
  {
   "cell_type": "code",
   "execution_count": 11,
   "metadata": {},
   "outputs": [
    {
     "data": {
      "text/plain": [
       "0                Ciudad Autónoma de Buenos Aires\n",
       "1                                      Catamarca\n",
       "2                                          Chaco\n",
       "3                                         Chubut\n",
       "4                                     Corrientes\n",
       "5                                     Entre Ríos\n",
       "6                                        Formosa\n",
       "7                                          Jujuy\n",
       "8                                       La Pampa\n",
       "9                                       La Rioja\n",
       "10                                       Mendoza\n",
       "11                                      Misiones\n",
       "12                                       Neuquén\n",
       "13                                     Río Negro\n",
       "14                                         Salta\n",
       "15                                      San Juan\n",
       "16                                      San Luis\n",
       "17                                    Santa Cruz\n",
       "18                                      Santa Fe\n",
       "19                           Santiago del Estero\n",
       "20                                       Tucumán\n",
       "21                                       Córdoba\n",
       "22                     Provincia de Buenos Aires\n",
       "23    Tierra del Fuego e Islas del Atlántico Sur\n",
       "Name: provincia, dtype: object"
      ]
     },
     "execution_count": 11,
     "metadata": {},
     "output_type": "execute_result"
    }
   ],
   "source": [
    "provinces_geo.provincia"
   ]
  },
  {
   "cell_type": "code",
   "execution_count": 12,
   "metadata": {},
   "outputs": [],
   "source": [
    "provinces_geo['provincia'] = provinces_geo['provincia'].apply(lambda x: \"Tierra del Fuego\" if x == \"Tierra del Fuego e Islas del Atlántico Sur\" else x)"
   ]
  },
  {
   "cell_type": "code",
   "execution_count": 13,
   "metadata": {},
   "outputs": [
    {
     "data": {
      "text/html": [
       "<div>\n",
       "<style scoped>\n",
       "    .dataframe tbody tr th:only-of-type {\n",
       "        vertical-align: middle;\n",
       "    }\n",
       "\n",
       "    .dataframe tbody tr th {\n",
       "        vertical-align: top;\n",
       "    }\n",
       "\n",
       "    .dataframe thead th {\n",
       "        text-align: right;\n",
       "    }\n",
       "</style>\n",
       "<table border=\"1\" class=\"dataframe\">\n",
       "  <thead>\n",
       "    <tr style=\"text-align: right;\">\n",
       "      <th></th>\n",
       "      <th>cartodb_id</th>\n",
       "      <th>description</th>\n",
       "      <th>name</th>\n",
       "      <th>provincia</th>\n",
       "      <th>id</th>\n",
       "      <th>codpcia</th>\n",
       "      <th>c_indec</th>\n",
       "      <th>id_dyp</th>\n",
       "      <th>geometry</th>\n",
       "      <th>median</th>\n",
       "      <th>count</th>\n",
       "    </tr>\n",
       "  </thead>\n",
       "  <tbody>\n",
       "    <tr>\n",
       "      <th>0</th>\n",
       "      <td>1</td>\n",
       "      <td></td>\n",
       "      <td></td>\n",
       "      <td>Ciudad Autónoma de Buenos Aires</td>\n",
       "      <td>1</td>\n",
       "      <td>1</td>\n",
       "      <td>2</td>\n",
       "      <td>1</td>\n",
       "      <td>MULTIPOLYGON (((-58.39007 -34.66230, -58.39037...</td>\n",
       "      <td>75000.000</td>\n",
       "      <td>4105</td>\n",
       "    </tr>\n",
       "    <tr>\n",
       "      <th>1</th>\n",
       "      <td>3</td>\n",
       "      <td></td>\n",
       "      <td></td>\n",
       "      <td>Catamarca</td>\n",
       "      <td>3</td>\n",
       "      <td>3</td>\n",
       "      <td>10</td>\n",
       "      <td>4</td>\n",
       "      <td>MULTIPOLYGON (((-66.59111 -26.17318, -66.58961...</td>\n",
       "      <td>50500.000</td>\n",
       "      <td>2</td>\n",
       "    </tr>\n",
       "    <tr>\n",
       "      <th>2</th>\n",
       "      <td>4</td>\n",
       "      <td></td>\n",
       "      <td></td>\n",
       "      <td>Chaco</td>\n",
       "      <td>4</td>\n",
       "      <td>4</td>\n",
       "      <td>22</td>\n",
       "      <td>6</td>\n",
       "      <td>MULTIPOLYGON (((-62.34757 -24.11021, -62.34407...</td>\n",
       "      <td>65784.000</td>\n",
       "      <td>33</td>\n",
       "    </tr>\n",
       "    <tr>\n",
       "      <th>3</th>\n",
       "      <td>5</td>\n",
       "      <td></td>\n",
       "      <td></td>\n",
       "      <td>Chubut</td>\n",
       "      <td>5</td>\n",
       "      <td>5</td>\n",
       "      <td>26</td>\n",
       "      <td>7</td>\n",
       "      <td>MULTIPOLYGON (((-71.77158 -41.99955, -71.67446...</td>\n",
       "      <td>83000.000</td>\n",
       "      <td>22</td>\n",
       "    </tr>\n",
       "    <tr>\n",
       "      <th>4</th>\n",
       "      <td>7</td>\n",
       "      <td></td>\n",
       "      <td></td>\n",
       "      <td>Corrientes</td>\n",
       "      <td>7</td>\n",
       "      <td>7</td>\n",
       "      <td>18</td>\n",
       "      <td>5</td>\n",
       "      <td>MULTIPOLYGON (((-58.89298 -27.99935, -58.89182...</td>\n",
       "      <td>42100.000</td>\n",
       "      <td>16</td>\n",
       "    </tr>\n",
       "    <tr>\n",
       "      <th>5</th>\n",
       "      <td>8</td>\n",
       "      <td></td>\n",
       "      <td></td>\n",
       "      <td>Entre Ríos</td>\n",
       "      <td>8</td>\n",
       "      <td>8</td>\n",
       "      <td>30</td>\n",
       "      <td>8</td>\n",
       "      <td>MULTIPOLYGON (((-59.66084 -30.34857, -59.65614...</td>\n",
       "      <td>59000.000</td>\n",
       "      <td>41</td>\n",
       "    </tr>\n",
       "    <tr>\n",
       "      <th>6</th>\n",
       "      <td>9</td>\n",
       "      <td></td>\n",
       "      <td></td>\n",
       "      <td>Formosa</td>\n",
       "      <td>9</td>\n",
       "      <td>9</td>\n",
       "      <td>34</td>\n",
       "      <td>9</td>\n",
       "      <td>MULTIPOLYGON (((-62.34465 -22.45495, -62.33563...</td>\n",
       "      <td>80000.000</td>\n",
       "      <td>3</td>\n",
       "    </tr>\n",
       "    <tr>\n",
       "      <th>7</th>\n",
       "      <td>10</td>\n",
       "      <td></td>\n",
       "      <td></td>\n",
       "      <td>Jujuy</td>\n",
       "      <td>10</td>\n",
       "      <td>10</td>\n",
       "      <td>38</td>\n",
       "      <td>10</td>\n",
       "      <td>MULTIPOLYGON (((-64.44379 -23.63491, -64.44048...</td>\n",
       "      <td>45000.000</td>\n",
       "      <td>15</td>\n",
       "    </tr>\n",
       "    <tr>\n",
       "      <th>8</th>\n",
       "      <td>11</td>\n",
       "      <td></td>\n",
       "      <td></td>\n",
       "      <td>La Pampa</td>\n",
       "      <td>11</td>\n",
       "      <td>11</td>\n",
       "      <td>42</td>\n",
       "      <td>11</td>\n",
       "      <td>MULTIPOLYGON (((-65.10672 -34.99768, -65.02612...</td>\n",
       "      <td>105250.000</td>\n",
       "      <td>2</td>\n",
       "    </tr>\n",
       "    <tr>\n",
       "      <th>9</th>\n",
       "      <td>12</td>\n",
       "      <td></td>\n",
       "      <td></td>\n",
       "      <td>La Rioja</td>\n",
       "      <td>12</td>\n",
       "      <td>12</td>\n",
       "      <td>46</td>\n",
       "      <td>12</td>\n",
       "      <td>MULTIPOLYGON (((-69.09436 -27.77274, -69.01274...</td>\n",
       "      <td>43500.000</td>\n",
       "      <td>8</td>\n",
       "    </tr>\n",
       "    <tr>\n",
       "      <th>10</th>\n",
       "      <td>13</td>\n",
       "      <td></td>\n",
       "      <td></td>\n",
       "      <td>Mendoza</td>\n",
       "      <td>13</td>\n",
       "      <td>13</td>\n",
       "      <td>50</td>\n",
       "      <td>13</td>\n",
       "      <td>MULTIPOLYGON (((-68.07266 -32.08152, -68.06808...</td>\n",
       "      <td>55000.000</td>\n",
       "      <td>112</td>\n",
       "    </tr>\n",
       "    <tr>\n",
       "      <th>11</th>\n",
       "      <td>14</td>\n",
       "      <td></td>\n",
       "      <td></td>\n",
       "      <td>Misiones</td>\n",
       "      <td>14</td>\n",
       "      <td>14</td>\n",
       "      <td>54</td>\n",
       "      <td>14</td>\n",
       "      <td>MULTIPOLYGON (((-56.02847 -27.33082, -56.02342...</td>\n",
       "      <td>46000.000</td>\n",
       "      <td>22</td>\n",
       "    </tr>\n",
       "    <tr>\n",
       "      <th>12</th>\n",
       "      <td>15</td>\n",
       "      <td></td>\n",
       "      <td></td>\n",
       "      <td>Neuquén</td>\n",
       "      <td>15</td>\n",
       "      <td>15</td>\n",
       "      <td>58</td>\n",
       "      <td>15</td>\n",
       "      <td>MULTIPOLYGON (((-70.41614 -36.10198, -70.41312...</td>\n",
       "      <td>62500.000</td>\n",
       "      <td>26</td>\n",
       "    </tr>\n",
       "    <tr>\n",
       "      <th>13</th>\n",
       "      <td>16</td>\n",
       "      <td></td>\n",
       "      <td></td>\n",
       "      <td>Río Negro</td>\n",
       "      <td>16</td>\n",
       "      <td>16</td>\n",
       "      <td>62</td>\n",
       "      <td>16</td>\n",
       "      <td>MULTIPOLYGON (((-68.24275 -37.57786, -68.24015...</td>\n",
       "      <td>78000.000</td>\n",
       "      <td>23</td>\n",
       "    </tr>\n",
       "    <tr>\n",
       "      <th>14</th>\n",
       "      <td>17</td>\n",
       "      <td></td>\n",
       "      <td></td>\n",
       "      <td>Salta</td>\n",
       "      <td>17</td>\n",
       "      <td>17</td>\n",
       "      <td>66</td>\n",
       "      <td>17</td>\n",
       "      <td>MULTIPOLYGON (((-64.44379 -23.63491, -64.44871...</td>\n",
       "      <td>66950.500</td>\n",
       "      <td>10</td>\n",
       "    </tr>\n",
       "    <tr>\n",
       "      <th>15</th>\n",
       "      <td>18</td>\n",
       "      <td></td>\n",
       "      <td></td>\n",
       "      <td>San Juan</td>\n",
       "      <td>18</td>\n",
       "      <td>18</td>\n",
       "      <td>70</td>\n",
       "      <td>18</td>\n",
       "      <td>MULTIPOLYGON (((-69.66178 -28.37523, -69.65889...</td>\n",
       "      <td>72667.375</td>\n",
       "      <td>6</td>\n",
       "    </tr>\n",
       "    <tr>\n",
       "      <th>16</th>\n",
       "      <td>19</td>\n",
       "      <td></td>\n",
       "      <td></td>\n",
       "      <td>San Luis</td>\n",
       "      <td>19</td>\n",
       "      <td>19</td>\n",
       "      <td>74</td>\n",
       "      <td>19</td>\n",
       "      <td>MULTIPOLYGON (((-65.77826 -31.88525, -65.77444...</td>\n",
       "      <td>97000.000</td>\n",
       "      <td>6</td>\n",
       "    </tr>\n",
       "    <tr>\n",
       "      <th>17</th>\n",
       "      <td>20</td>\n",
       "      <td></td>\n",
       "      <td></td>\n",
       "      <td>Santa Cruz</td>\n",
       "      <td>20</td>\n",
       "      <td>20</td>\n",
       "      <td>78</td>\n",
       "      <td>20</td>\n",
       "      <td>MULTIPOLYGON (((-71.64905 -46.00062, -71.54546...</td>\n",
       "      <td>57500.000</td>\n",
       "      <td>2</td>\n",
       "    </tr>\n",
       "    <tr>\n",
       "      <th>18</th>\n",
       "      <td>21</td>\n",
       "      <td></td>\n",
       "      <td></td>\n",
       "      <td>Santa Fe</td>\n",
       "      <td>21</td>\n",
       "      <td>21</td>\n",
       "      <td>82</td>\n",
       "      <td>21</td>\n",
       "      <td>MULTIPOLYGON (((-58.89298 -27.99935, -58.89029...</td>\n",
       "      <td>73000.000</td>\n",
       "      <td>287</td>\n",
       "    </tr>\n",
       "    <tr>\n",
       "      <th>19</th>\n",
       "      <td>22</td>\n",
       "      <td></td>\n",
       "      <td></td>\n",
       "      <td>Santiago del Estero</td>\n",
       "      <td>22</td>\n",
       "      <td>22</td>\n",
       "      <td>86</td>\n",
       "      <td>22</td>\n",
       "      <td>MULTIPOLYGON (((-64.49355 -26.23354, -64.49308...</td>\n",
       "      <td>41500.000</td>\n",
       "      <td>4</td>\n",
       "    </tr>\n",
       "    <tr>\n",
       "      <th>20</th>\n",
       "      <td>24</td>\n",
       "      <td></td>\n",
       "      <td></td>\n",
       "      <td>Tucumán</td>\n",
       "      <td>24</td>\n",
       "      <td>24</td>\n",
       "      <td>90</td>\n",
       "      <td>23</td>\n",
       "      <td>MULTIPOLYGON (((-66.08163 -26.21938, -66.07239...</td>\n",
       "      <td>66000.000</td>\n",
       "      <td>27</td>\n",
       "    </tr>\n",
       "    <tr>\n",
       "      <th>21</th>\n",
       "      <td>6</td>\n",
       "      <td></td>\n",
       "      <td></td>\n",
       "      <td>Córdoba</td>\n",
       "      <td>6</td>\n",
       "      <td>6</td>\n",
       "      <td>14</td>\n",
       "      <td>2</td>\n",
       "      <td>MULTIPOLYGON (((-65.41372 -30.12240, -65.39924...</td>\n",
       "      <td>72500.000</td>\n",
       "      <td>316</td>\n",
       "    </tr>\n",
       "    <tr>\n",
       "      <th>22</th>\n",
       "      <td>2</td>\n",
       "      <td></td>\n",
       "      <td></td>\n",
       "      <td>Provincia de Buenos Aires</td>\n",
       "      <td>2</td>\n",
       "      <td>2</td>\n",
       "      <td>6</td>\n",
       "      <td>3</td>\n",
       "      <td>MULTIPOLYGON (((-58.46189 -34.53477, -58.46222...</td>\n",
       "      <td>65000.000</td>\n",
       "      <td>457</td>\n",
       "    </tr>\n",
       "    <tr>\n",
       "      <th>23</th>\n",
       "      <td>23</td>\n",
       "      <td></td>\n",
       "      <td></td>\n",
       "      <td>Tierra del Fuego</td>\n",
       "      <td>23</td>\n",
       "      <td>23</td>\n",
       "      <td>94</td>\n",
       "      <td>24</td>\n",
       "      <td>MULTIPOLYGON (((-67.77334 -53.83410, -67.76647...</td>\n",
       "      <td>120000.000</td>\n",
       "      <td>5</td>\n",
       "    </tr>\n",
       "  </tbody>\n",
       "</table>\n",
       "</div>"
      ],
      "text/plain": [
       "    cartodb_id description name                        provincia  id  codpcia  \\\n",
       "0            1                   Ciudad Autónoma de Buenos Aires   1        1   \n",
       "1            3                                         Catamarca   3        3   \n",
       "2            4                                             Chaco   4        4   \n",
       "3            5                                            Chubut   5        5   \n",
       "4            7                                        Corrientes   7        7   \n",
       "5            8                                        Entre Ríos   8        8   \n",
       "6            9                                           Formosa   9        9   \n",
       "7           10                                             Jujuy  10       10   \n",
       "8           11                                          La Pampa  11       11   \n",
       "9           12                                          La Rioja  12       12   \n",
       "10          13                                           Mendoza  13       13   \n",
       "11          14                                          Misiones  14       14   \n",
       "12          15                                           Neuquén  15       15   \n",
       "13          16                                         Río Negro  16       16   \n",
       "14          17                                             Salta  17       17   \n",
       "15          18                                          San Juan  18       18   \n",
       "16          19                                          San Luis  19       19   \n",
       "17          20                                        Santa Cruz  20       20   \n",
       "18          21                                          Santa Fe  21       21   \n",
       "19          22                               Santiago del Estero  22       22   \n",
       "20          24                                           Tucumán  24       24   \n",
       "21           6                                           Córdoba   6        6   \n",
       "22           2                         Provincia de Buenos Aires   2        2   \n",
       "23          23                                  Tierra del Fuego  23       23   \n",
       "\n",
       "    c_indec  id_dyp                                           geometry  \\\n",
       "0         2       1  MULTIPOLYGON (((-58.39007 -34.66230, -58.39037...   \n",
       "1        10       4  MULTIPOLYGON (((-66.59111 -26.17318, -66.58961...   \n",
       "2        22       6  MULTIPOLYGON (((-62.34757 -24.11021, -62.34407...   \n",
       "3        26       7  MULTIPOLYGON (((-71.77158 -41.99955, -71.67446...   \n",
       "4        18       5  MULTIPOLYGON (((-58.89298 -27.99935, -58.89182...   \n",
       "5        30       8  MULTIPOLYGON (((-59.66084 -30.34857, -59.65614...   \n",
       "6        34       9  MULTIPOLYGON (((-62.34465 -22.45495, -62.33563...   \n",
       "7        38      10  MULTIPOLYGON (((-64.44379 -23.63491, -64.44048...   \n",
       "8        42      11  MULTIPOLYGON (((-65.10672 -34.99768, -65.02612...   \n",
       "9        46      12  MULTIPOLYGON (((-69.09436 -27.77274, -69.01274...   \n",
       "10       50      13  MULTIPOLYGON (((-68.07266 -32.08152, -68.06808...   \n",
       "11       54      14  MULTIPOLYGON (((-56.02847 -27.33082, -56.02342...   \n",
       "12       58      15  MULTIPOLYGON (((-70.41614 -36.10198, -70.41312...   \n",
       "13       62      16  MULTIPOLYGON (((-68.24275 -37.57786, -68.24015...   \n",
       "14       66      17  MULTIPOLYGON (((-64.44379 -23.63491, -64.44871...   \n",
       "15       70      18  MULTIPOLYGON (((-69.66178 -28.37523, -69.65889...   \n",
       "16       74      19  MULTIPOLYGON (((-65.77826 -31.88525, -65.77444...   \n",
       "17       78      20  MULTIPOLYGON (((-71.64905 -46.00062, -71.54546...   \n",
       "18       82      21  MULTIPOLYGON (((-58.89298 -27.99935, -58.89029...   \n",
       "19       86      22  MULTIPOLYGON (((-64.49355 -26.23354, -64.49308...   \n",
       "20       90      23  MULTIPOLYGON (((-66.08163 -26.21938, -66.07239...   \n",
       "21       14       2  MULTIPOLYGON (((-65.41372 -30.12240, -65.39924...   \n",
       "22        6       3  MULTIPOLYGON (((-58.46189 -34.53477, -58.46222...   \n",
       "23       94      24  MULTIPOLYGON (((-67.77334 -53.83410, -67.76647...   \n",
       "\n",
       "        median  count  \n",
       "0    75000.000   4105  \n",
       "1    50500.000      2  \n",
       "2    65784.000     33  \n",
       "3    83000.000     22  \n",
       "4    42100.000     16  \n",
       "5    59000.000     41  \n",
       "6    80000.000      3  \n",
       "7    45000.000     15  \n",
       "8   105250.000      2  \n",
       "9    43500.000      8  \n",
       "10   55000.000    112  \n",
       "11   46000.000     22  \n",
       "12   62500.000     26  \n",
       "13   78000.000     23  \n",
       "14   66950.500     10  \n",
       "15   72667.375      6  \n",
       "16   97000.000      6  \n",
       "17   57500.000      2  \n",
       "18   73000.000    287  \n",
       "19   41500.000      4  \n",
       "20   66000.000     27  \n",
       "21   72500.000    316  \n",
       "22   65000.000    457  \n",
       "23  120000.000      5  "
      ]
     },
     "execution_count": 13,
     "metadata": {},
     "output_type": "execute_result"
    }
   ],
   "source": [
    "provinces = provinces_geo.join(df_provinces['Salario mensual BRUTO (en tu moneda local)'], on=['provincia'])\n",
    "provinces"
   ]
  },
  {
   "cell_type": "code",
   "execution_count": 14,
   "metadata": {},
   "outputs": [
    {
     "data": {
      "image/png": "[encoded data removed]",
      "text/plain": [
       "<Figure size 1080x1080 with 2 Axes>"
      ]
     },
     "metadata": {
      "needs_background": "light"
     },
     "output_type": "display_data"
    }
   ],
   "source": [
    "f, ax = plt.subplots(1, figsize=(15, 15))\n",
    "ax = provinces.plot(column='median', cmap='afmhot', ax=ax, legend=True)\n",
    "ax.axis('off')\n",
    "plt.show()"
   ]
  },
  {
   "cell_type": "code",
   "execution_count": 15,
   "metadata": {},
   "outputs": [
    {
     "data": {
      "image/png": "[encoded data removed]",
      "text/plain": [
       "<Figure size 1080x1080 with 2 Axes>"
      ]
     },
     "metadata": {
      "needs_background": "light"
     },
     "output_type": "display_data"
    }
   ],
   "source": [
    "f, ax = plt.subplots(1, figsize=(15, 15))\n",
    "ax = provinces.plot(column='count', cmap='afmhot', ax=ax, legend=True)\n",
    "ax.axis('off')\n",
    "plt.show()"
   ]
  },
  {
   "cell_type": "markdown",
   "metadata": {},
   "source": [
    "Como la escala está dominada por CABA, apenas podemos ver que PBA, Santa Fe y Córdoba tienen datos y el resto del país casi nada. Usemos logaritmo en base 10 para ver la orden de magnitud de cada provincia."
   ]
  },
  {
   "cell_type": "code",
   "execution_count": 16,
   "metadata": {},
   "outputs": [
    {
     "data": {
      "image/png": "[encoded data removed]",
      "text/plain": [
       "<Figure size 1080x1080 with 2 Axes>"
      ]
     },
     "metadata": {
      "needs_background": "light"
     },
     "output_type": "display_data"
    }
   ],
   "source": [
    "provinces['log(count)'] = provinces['count'].apply(lambda x: math.log10(x))\n",
    "f, ax = plt.subplots(1, figsize=(15, 15))\n",
    "ax = provinces.plot(column='log(count)', cmap='afmhot', ax=ax, legend=True)\n",
    "ax.axis('off')\n",
    "plt.show()"
   ]
  },
  {
   "cell_type": "markdown",
   "metadata": {},
   "source": [
    "Vemos algún patrón en estos gráficos. El área de la Pampa Húmeda (Provincia de Buenos Aires, Santa Fe, Córdoba, La Pampa) parece tener más datos, y valores más altos. El Noroeste (Jujuy, Salta, Tucumán, La Rioja, Catamarca) tienen menos observaciones y promedios más bajos. En la Patagonia (Neuquén, Río Negro, Chubut, Santa Cruz) Santa Cruz parece tener un sueldo más bajo que el resto, pero vemos que son pocas observaciones. Pasa lo opuesto en el norte, donde Formosa es más alto pero sólo con 3 personas. Cuyo (Mendoza, San Luis, San Juan) parece ser menos homogéneo, sabiendo que San Luis tiene políticas de incentivo a la actividad económica tiene sentido."
   ]
  },
  {
   "cell_type": "code",
   "execution_count": 17,
   "metadata": {},
   "outputs": [
    {
     "data": {
      "image/png": "[encoded data removed]",
      "text/plain": [
       "<Figure size 2160x1080 with 4 Axes>"
      ]
     },
     "metadata": {
      "needs_background": "light"
     },
     "output_type": "display_data"
    }
   ],
   "source": [
    "regions_map = {\n",
    "    'Ciudad Autónoma de Buenos Aires': 'AMBA',\n",
    "    'GBA': 'AMBA',\n",
    "    'Catamarca': 'NOA',\n",
    "    'Chaco': 'NEA',\n",
    "    'Chubut': 'Patagonia',\n",
    "    'Corrientes': 'NEA',\n",
    "    'Entre Ríos': 'NEA',\n",
    "    'Formosa': 'NEA',\n",
    "    'Jujuy': 'NOA',\n",
    "    'La Pampa': 'Pampa',\n",
    "    'La Rioja': 'NOA',\n",
    "    'Mendoza': 'Cuyo',\n",
    "    'Misiones': 'NEA',\n",
    "    'Neuquén': 'Patagonia',\n",
    "    'Río Negro': 'Patagonia',\n",
    "    'Salta': 'NOA',\n",
    "    'San Juan': 'Cuyo',\n",
    "    'San Luis': 'Cuyo',\n",
    "    'Santa Cruz': 'Patagonia',\n",
    "    'Santa Fe': 'Pampa',\n",
    "    'Santiago del Estero': 'NOA',\n",
    "    'Tucumán': 'NOA',\n",
    "    'Córdoba': 'Pampa',\n",
    "    'Provincia de Buenos Aires': 'Pampa',\n",
    "    'Tierra del Fuego': 'Patagonia',\n",
    "}\n",
    "provinces_geo['region'] = provinces_geo['provincia'].apply(lambda x: regions_map[x])\n",
    "df['region'] = df['Dónde estás trabajando'].apply(lambda x: regions_map[x])\n",
    "df_regions = df[['region', 'Salario mensual BRUTO (en tu moneda local)']].groupby('region').agg(['median', 'count']).sort_values(('Salario mensual BRUTO (en tu moneda local)', 'median'))\n",
    "\n",
    "regions = provinces_geo.join(df_regions['Salario mensual BRUTO (en tu moneda local)'], on=['region'])\n",
    "regions['log(count)'] = regions['count'].apply(lambda x: math.log10(x))\n",
    "\n",
    "\n",
    "f, (ax0, ax1) = plt.subplots(ncols=2, figsize=(30, 15))\n",
    "ax0 = regions.plot(column='median', cmap='afmhot', ax=ax0, legend=True)\n",
    "ax0.axis('off')\n",
    "\n",
    "ax1 = regions.plot(column='log(count)', cmap='afmhot', ax=ax1, legend=True)\n",
    "ax1.axis('off')\n",
    "\n",
    "plt.show()"
   ]
  },
  {
   "cell_type": "markdown",
   "metadata": {},
   "source": [
    "Ahora tenemos una mediana para cada región, y tenemos muestra de dos dígitos o más en cada una."
   ]
  },
  {
   "cell_type": "code",
   "execution_count": 18,
   "metadata": {},
   "outputs": [
    {
     "name": "stderr",
     "output_type": "stream",
     "text": [
      "/home/seppo/.local/share/virtualenvs/sysarmy-sueldos-2020.1-QyVfVxlk/lib/python3.8/site-packages/numpy/core/_asarray.py:83: VisibleDeprecationWarning: Creating an ndarray from ragged nested sequences (which is a list-or-tuple of lists-or-tuples-or ndarrays with different lengths or shapes) is deprecated. If you meant to do this, you must specify 'dtype=object' when creating the ndarray\n",
      "  return array(a, dtype, copy=False, order=order)\n"
     ]
    },
    {
     "data": {
      "image/png": "[encoded data removed]",
      "text/plain": [
       "<Figure size 1440x432 with 1 Axes>"
      ]
     },
     "metadata": {
      "needs_background": "light"
     },
     "output_type": "display_data"
    }
   ],
   "source": [
    "df[['¿Gente a cargo?', 'Salario mensual BRUTO (en tu moneda local)']].boxplot(by='¿Gente a cargo?', figsize=(20, 6));"
   ]
  },
  {
   "cell_type": "code",
   "execution_count": 19,
   "metadata": {},
   "outputs": [
    {
     "data": {
      "text/plain": [
       "6777729990111.0"
      ]
     },
     "execution_count": 19,
     "metadata": {},
     "output_type": "execute_result"
    }
   ],
   "source": [
    "df['Salario mensual BRUTO (en tu moneda local)'].max()"
   ]
  },
  {
   "cell_type": "code",
   "execution_count": 20,
   "metadata": {},
   "outputs": [],
   "source": [
    "df = df[df['Salario mensual BRUTO (en tu moneda local)'] < 1_000_000]"
   ]
  },
  {
   "cell_type": "code",
   "execution_count": 21,
   "metadata": {},
   "outputs": [
    {
     "name": "stderr",
     "output_type": "stream",
     "text": [
      "/home/seppo/.local/share/virtualenvs/sysarmy-sueldos-2020.1-QyVfVxlk/lib/python3.8/site-packages/numpy/core/_asarray.py:83: VisibleDeprecationWarning: Creating an ndarray from ragged nested sequences (which is a list-or-tuple of lists-or-tuples-or ndarrays with different lengths or shapes) is deprecated. If you meant to do this, you must specify 'dtype=object' when creating the ndarray\n",
      "  return array(a, dtype, copy=False, order=order)\n"
     ]
    },
    {
     "data": {
      "image/png": "[encoded data removed]",
      "text/plain": [
       "<Figure size 1440x432 with 1 Axes>"
      ]
     },
     "metadata": {
      "needs_background": "light"
     },
     "output_type": "display_data"
    }
   ],
   "source": [
    "df[['¿Gente a cargo?', 'Salario mensual BRUTO (en tu moneda local)']].astype(int).sort_values(by='¿Gente a cargo?').boxplot(by='¿Gente a cargo?', figsize=(20, 6));"
   ]
  },
  {
   "cell_type": "code",
   "execution_count": 22,
   "metadata": {},
   "outputs": [
    {
     "data": {
      "image/png": "[encoded data removed]",
      "text/plain": [
       "<Figure size 1440x432 with 1 Axes>"
      ]
     },
     "metadata": {
      "needs_background": "light"
     },
     "output_type": "display_data"
    }
   ],
   "source": [
    "df[['¿Gente a cargo?']].astype(int).sort_values(by='¿Gente a cargo?').hist(figsize=(20, 6), log=True);"
   ]
  },
  {
   "cell_type": "code",
   "execution_count": 23,
   "metadata": {},
   "outputs": [
    {
     "data": {
      "image/png": "[encoded data removed]",
      "text/plain": [
       "<Figure size 1440x432 with 1 Axes>"
      ]
     },
     "metadata": {
      "needs_background": "light"
     },
     "output_type": "display_data"
    }
   ],
   "source": [
    "df['¿Gente a cargo?'].astype(int).sort_values().apply(lambda x: math.log10(x+1)).hist(figsize=(20, 6), log=True);"
   ]
  },
  {
   "cell_type": "code",
   "execution_count": 24,
   "metadata": {},
   "outputs": [
    {
     "data": {
      "text/plain": [
       "array([  0.,   2.,   5., 650.])"
      ]
     },
     "execution_count": 24,
     "metadata": {},
     "output_type": "execute_result"
    }
   ],
   "source": [
    "g = df['¿Gente a cargo?'].astype(int)\n",
    "pd.qcut(g, 10, duplicates='drop', retbins=True)[1]"
   ]
  },
  {
   "cell_type": "code",
   "execution_count": 25,
   "metadata": {},
   "outputs": [
    {
     "name": "stderr",
     "output_type": "stream",
     "text": [
      "/home/seppo/.local/share/virtualenvs/sysarmy-sueldos-2020.1-QyVfVxlk/lib/python3.8/site-packages/numpy/core/_asarray.py:83: VisibleDeprecationWarning: Creating an ndarray from ragged nested sequences (which is a list-or-tuple of lists-or-tuples-or ndarrays with different lengths or shapes) is deprecated. If you meant to do this, you must specify 'dtype=object' when creating the ndarray\n",
      "  return array(a, dtype, copy=False, order=order)\n"
     ]
    },
    {
     "data": {
      "image/png": "[encoded data removed]",
      "text/plain": [
       "<Figure size 1440x432 with 1 Axes>"
      ]
     },
     "metadata": {
      "needs_background": "light"
     },
     "output_type": "display_data"
    }
   ],
   "source": [
    "deciles = pd.qcut(g, 10, duplicates='drop', retbins=True)[1]\n",
    "df['gente_a_cargo_decile'] = df['¿Gente a cargo?'].astype(int).apply(lambda x: (deciles <= x).sum())\n",
    "df[['gente_a_cargo_decile', 'Salario mensual BRUTO (en tu moneda local)']].astype(int).sort_values(by='gente_a_cargo_decile').boxplot(by='gente_a_cargo_decile', figsize=(20, 6));"
   ]
  },
  {
   "cell_type": "markdown",
   "metadata": {},
   "source": [
    "Ahora ya estamos listos para armar una predicción básica. Calculamos el promedio para la gente de la misma región geográfica, mismo género (considerando \"otro\" como \"mujer\" por ser más parecido su sueldo) y mismo decil con gente a cargo."
   ]
  },
  {
   "cell_type": "code",
   "execution_count": 26,
   "metadata": {},
   "outputs": [
    {
     "data": {
      "text/plain": [
       "0.0756538701171876"
      ]
     },
     "execution_count": 26,
     "metadata": {},
     "output_type": "execute_result"
    }
   ],
   "source": [
    "gender_map = {\n",
    "    'Hombre': True,\n",
    "    'Mujer': False,\n",
    "    'Otros': False,\n",
    "}\n",
    "class BaseModel:\n",
    "    def __init__(self, num_gente_a_cargo_groups=10):\n",
    "        self.num_gente_a_cargo_groups = num_gente_a_cargo_groups\n",
    "\n",
    "    def _get_df(self, X):\n",
    "        df = pd.DataFrame()\n",
    "        df['region'] = X['Dónde estás trabajando'].apply(lambda x: regions_map[x])\n",
    "        df['gender'] = X['Me identifico'].apply(lambda x: gender_map[x])\n",
    "        df['gente_a_cargo_group'] = X['¿Gente a cargo?'].astype(int).apply(lambda x: (self.groups_ <= x).sum())\n",
    "        df['key'] = df.apply(lambda row: '{},{},{}'.format(row['region'], row['gender'], row['gente_a_cargo_group']), axis=1)\n",
    "        return df\n",
    "\n",
    "    def get_params(self, deep=True):\n",
    "        return {'num_gente_a_cargo_groups': self.num_gente_a_cargo_groups}\n",
    "\n",
    "    def set_params(self, **params):\n",
    "        if 'num_gente_a_cargo_groups' in params:\n",
    "            self.num_gente_a_cargo_groups = params['num_gente_a_cargo_groups']\n",
    "    \n",
    "    def fit(self, X, y):\n",
    "        self.groups_ = pd.qcut(X['¿Gente a cargo?'].astype(int), self.num_gente_a_cargo_groups, duplicates='drop', retbins=True)[1]\n",
    "        \n",
    "        df = self._get_df(X)\n",
    "        df['value'] = y\n",
    "        self.mean_ = y.mean()\n",
    "        self.means_ = df[['key', 'value']].groupby('key').mean().to_dict()['value']\n",
    "        return self\n",
    "    \n",
    "    def predict(self, X):\n",
    "        df = self._get_df(X)\n",
    "        return df['key'].apply(lambda key: self.means_.get(key, self.mean_)).rename('y_pred')\n",
    "    \n",
    "    def score(self, X, y):\n",
    "        return r2_score(y, self.predict(X))\n",
    "\n",
    "X, y = df[['Me identifico', 'Dónde estás trabajando', '¿Gente a cargo?']], df['Salario mensual BRUTO (en tu moneda local)']\n",
    "m = BaseModel()\n",
    "m.fit(X, y).score(X, y)"
   ]
  },
  {
   "cell_type": "code",
   "execution_count": 27,
   "metadata": {},
   "outputs": [
    {
     "data": {
      "text/plain": [
       "array([ 0.05912578,  0.06624877,  0.01944449,  0.02328854, -0.01219801])"
      ]
     },
     "execution_count": 27,
     "metadata": {},
     "output_type": "execute_result"
    }
   ],
   "source": [
    "cross_val_score(BaseModel(), X, y)"
   ]
  },
  {
   "cell_type": "code",
   "execution_count": 28,
   "metadata": {
    "deletable": false,
    "editable": false,
    "run_control": {
     "frozen": true
    }
   },
   "outputs": [
    {
     "data": {
      "text/plain": [
       "(0.04011411251863235, 37)"
      ]
     },
     "execution_count": 28,
     "metadata": {},
     "output_type": "execute_result"
    }
   ],
   "source": [
    "best_p = 10\n",
    "best_s = cross_val_score(BaseModel(best_p), X, y).mean()\n",
    "for i in range(1, 100):\n",
    "    s = cross_val_score(BaseModel(i), X, y).mean()\n",
    "    if s > best_s:\n",
    "        best_s = s\n",
    "        best_p = i\n",
    "(best_s, best_p)"
   ]
  },
  {
   "cell_type": "markdown",
   "metadata": {},
   "source": [
    "Este modelo es bastante peor de lo que esperaba. Veamos un modelo de regresión lineal con estos mismos datos."
   ]
  },
  {
   "cell_type": "code",
   "execution_count": 28,
   "metadata": {},
   "outputs": [
    {
     "data": {
      "text/plain": [
       "0.045472258331214224"
      ]
     },
     "execution_count": 28,
     "metadata": {},
     "output_type": "execute_result"
    }
   ],
   "source": [
    "gender_map = {\n",
    "    'Hombre': True,\n",
    "    'Mujer': False,\n",
    "    'Otros': False,\n",
    "}\n",
    "class LinearModel:\n",
    "    def _get_df(self, X):\n",
    "        df = pd.DataFrame()\n",
    "        df['region'] = X['Dónde estás trabajando'].apply(lambda x: self.region_map_.get(regions_map[x], self.mean_))\n",
    "        df['gender'] = X['Me identifico'].apply(lambda x: self.gender_map_.get(gender_map[x], self.mean_))\n",
    "        df['log_gente_a_cargo'] = X['¿Gente a cargo?'].astype(int).apply(lambda x: math.log10(x+1))\n",
    "        return df\n",
    "\n",
    "    def get_params(self, deep=True):\n",
    "        return {}\n",
    "\n",
    "    def set_params(self, **params):\n",
    "        return\n",
    "    \n",
    "    def fit(self, X, y):\n",
    "        self.mean_ = y.mean()\n",
    "        self.region_map_ = pd.concat((X['Dónde estás trabajando'].apply(lambda x: regions_map[x]).rename('k'), y.rename('v')), axis=1).groupby('k').mean().to_dict()['v']\n",
    "        self.gender_map_ = pd.concat((X['Me identifico'].apply(lambda x: gender_map[x]).rename('k'), y.rename('v')), axis=1).groupby('k').mean().to_dict()['v']\n",
    "                                     \n",
    "        df = self._get_df(X)\n",
    "        self.model_ = LinearRegression()\n",
    "        self.model_.fit(df, y)\n",
    "        return self\n",
    "    \n",
    "    def predict(self, X):\n",
    "        return self.model_.predict(self._get_df(X))\n",
    "    \n",
    "    def score(self, X, y):\n",
    "        return r2_score(y, self.predict(X))\n",
    "\n",
    "X, y = df[['Me identifico', 'Dónde estás trabajando', '¿Gente a cargo?']], df['Salario mensual BRUTO (en tu moneda local)']\n",
    "cross_val_score(LinearModel(), X, y).mean()"
   ]
  },
  {
   "cell_type": "code",
   "execution_count": 29,
   "metadata": {},
   "outputs": [
    {
     "data": {
      "text/plain": [
       "0.04569610636696928"
      ]
     },
     "execution_count": 29,
     "metadata": {},
     "output_type": "execute_result"
    }
   ],
   "source": [
    "gender_map = {\n",
    "    'Hombre': True,\n",
    "    'Mujer': False,\n",
    "    'Otros': False,\n",
    "}\n",
    "class LinearModel:\n",
    "    def _get_df(self, X):\n",
    "        df = pd.DataFrame()\n",
    "        df['region'] = X['Dónde estás trabajando'].apply(lambda x: self.region_map_.get(x, self.mean_))\n",
    "        df['gender'] = X['Me identifico'].apply(lambda x: self.gender_map_.get(gender_map[x], self.mean_))\n",
    "        df['log_gente_a_cargo'] = X['¿Gente a cargo?'].astype(int).apply(lambda x: math.log10(x+1))\n",
    "        return df\n",
    "\n",
    "    def get_params(self, deep=True):\n",
    "        return {}\n",
    "\n",
    "    def set_params(self, **params):\n",
    "        return\n",
    "    \n",
    "    def fit(self, X, y):\n",
    "        self.mean_ = y.mean()\n",
    "        self.region_map_ = pd.concat((X['Dónde estás trabajando'].rename('k'), y.rename('v')), axis=1).groupby('k').mean().to_dict()['v']\n",
    "        self.gender_map_ = pd.concat((X['Me identifico'].apply(lambda x: gender_map[x]).rename('k'), y.rename('v')), axis=1).groupby('k').mean().to_dict()['v']\n",
    "                                     \n",
    "        df = self._get_df(X)\n",
    "        self.model_ = LinearRegression()\n",
    "        self.model_.fit(df, y)\n",
    "        return self\n",
    "    \n",
    "    def predict(self, X):\n",
    "        return self.model_.predict(self._get_df(X))\n",
    "    \n",
    "    def score(self, X, y):\n",
    "        return r2_score(y, self.predict(X))\n",
    "\n",
    "X, y = df[['Me identifico', 'Dónde estás trabajando', '¿Gente a cargo?']], df['Salario mensual BRUTO (en tu moneda local)']\n",
    "cross_val_score(LinearModel(), X, y).mean()"
   ]
  },
  {
   "cell_type": "code",
   "execution_count": 30,
   "metadata": {},
   "outputs": [
    {
     "data": {
      "text/plain": [
       "0.045596020642121184"
      ]
     },
     "execution_count": 30,
     "metadata": {},
     "output_type": "execute_result"
    }
   ],
   "source": [
    "gender_map = {\n",
    "    'Hombre': 2,\n",
    "    'Mujer': 1,\n",
    "    'Otros': 0,\n",
    "}\n",
    "class LinearModel:\n",
    "    def _get_df(self, X):\n",
    "        df = pd.DataFrame()\n",
    "        df['region'] = X['Dónde estás trabajando'].apply(lambda x: self.region_map_.get(x, self.mean_))\n",
    "        df['gender'] = X['Me identifico'].apply(lambda x: self.gender_map_.get(gender_map[x], self.mean_))\n",
    "        df['log_gente_a_cargo'] = X['¿Gente a cargo?'].astype(int).apply(lambda x: math.log10(x+1))\n",
    "        return df\n",
    "\n",
    "    def get_params(self, deep=True):\n",
    "        return {}\n",
    "\n",
    "    def set_params(self, **params):\n",
    "        return\n",
    "    \n",
    "    def fit(self, X, y):\n",
    "        self.mean_ = y.mean()\n",
    "        self.region_map_ = pd.concat((X['Dónde estás trabajando'].rename('k'), y.rename('v')), axis=1).groupby('k').mean().to_dict()['v']\n",
    "        self.gender_map_ = pd.concat((X['Me identifico'].apply(lambda x: gender_map[x]).rename('k'), y.rename('v')), axis=1).groupby('k').mean().to_dict()['v']\n",
    "                                     \n",
    "        df = self._get_df(X)\n",
    "        self.model_ = LinearRegression()\n",
    "        self.model_.fit(df, y)\n",
    "        return self\n",
    "    \n",
    "    def predict(self, X):\n",
    "        return self.model_.predict(self._get_df(X))\n",
    "    \n",
    "    def score(self, X, y):\n",
    "        return r2_score(y, self.predict(X))\n",
    "\n",
    "X, y = df[['Me identifico', 'Dónde estás trabajando', '¿Gente a cargo?']], df['Salario mensual BRUTO (en tu moneda local)']\n",
    "cross_val_score(LinearModel(), X, y).mean()"
   ]
  },
  {
   "cell_type": "markdown",
   "metadata": {},
   "source": [
    "Probando no agrupar otros con mujeres el modelo empeora, dejando las provincias sin agrupar el modelo mejora. Usar logaritmo en vez de deciles para gente a cargo mejora (¡y es más sencillo de implementar!). Quedemosnos el mejor modelo que tenemos hasta ahora y agreguemos experiencia y nivel de estudio."
   ]
  },
  {
   "cell_type": "code",
   "execution_count": 31,
   "metadata": {},
   "outputs": [
    {
     "data": {
      "text/plain": [
       "0.14055117647443893"
      ]
     },
     "execution_count": 31,
     "metadata": {},
     "output_type": "execute_result"
    }
   ],
   "source": [
    "gender_map = {\n",
    "    'Hombre': True,\n",
    "    'Mujer': False,\n",
    "    'Otros': False,\n",
    "}\n",
    "class LinearModel:\n",
    "    def _get_df(self, X):\n",
    "        df = pd.DataFrame()\n",
    "        df['region'] = X['Dónde estás trabajando'].apply(lambda x: self.region_map_.get(x, self.mean_))\n",
    "        df['gender'] = X['Me identifico'].apply(lambda x: self.gender_map_.get(gender_map[x], self.mean_))\n",
    "        df['log_gente_a_cargo'] = X['¿Gente a cargo?'].astype(int).apply(lambda x: math.log10(x+1))\n",
    "        df['exp'] = X['Años de experiencia'].apply(lambda x: math.log10(x+1))\n",
    "        return df\n",
    "\n",
    "    def get_params(self, deep=True):\n",
    "        return {}\n",
    "\n",
    "    def set_params(self, **params):\n",
    "        return\n",
    "    \n",
    "    def fit(self, X, y):\n",
    "        self.mean_ = y.mean()\n",
    "        self.region_map_ = pd.concat((X['Dónde estás trabajando'].rename('k'), y.rename('v')), axis=1).groupby('k').mean().to_dict()['v']\n",
    "        self.gender_map_ = pd.concat((X['Me identifico'].apply(lambda x: gender_map[x]).rename('k'), y.rename('v')), axis=1).groupby('k').mean().to_dict()['v']\n",
    "                                     \n",
    "        df = self._get_df(X)\n",
    "        self.model_ = LinearRegression()\n",
    "        self.model_.fit(df, y)\n",
    "        return self\n",
    "    \n",
    "    def predict(self, X):\n",
    "        return self.model_.predict(self._get_df(X))\n",
    "    \n",
    "    def score(self, X, y):\n",
    "        return r2_score(y, self.predict(X))\n",
    "\n",
    "X, y = df[['Me identifico', 'Dónde estás trabajando', '¿Gente a cargo?', 'Años de experiencia', 'Nivel de estudios alcanzado', 'Estado']], df['Salario mensual BRUTO (en tu moneda local)']\n",
    "m = LinearModel()\n",
    "cross_val_score(LinearModel(), X, y).mean()"
   ]
  },
  {
   "cell_type": "code",
   "execution_count": 32,
   "metadata": {},
   "outputs": [
    {
     "data": {
      "text/plain": [
       "Completado    2932\n",
       "En curso      1748\n",
       "Incompleto    1292\n",
       "Name: Estado, dtype: int64"
      ]
     },
     "execution_count": 32,
     "metadata": {},
     "output_type": "execute_result"
    }
   ],
   "source": [
    "df['Estado'].value_counts()"
   ]
  },
  {
   "cell_type": "code",
   "execution_count": 33,
   "metadata": {},
   "outputs": [
    {
     "data": {
      "text/plain": [
       "Universitario    3935\n",
       "Terciario        1132\n",
       "Secundario        553\n",
       "Posgrado          321\n",
       "Doctorado          21\n",
       "Posdoctorado        8\n",
       "Primario            2\n",
       "Name: Nivel de estudios alcanzado, dtype: int64"
      ]
     },
     "execution_count": 33,
     "metadata": {},
     "output_type": "execute_result"
    }
   ],
   "source": [
    "df['Nivel de estudios alcanzado'].value_counts()"
   ]
  },
  {
   "cell_type": "code",
   "execution_count": 34,
   "metadata": {},
   "outputs": [
    {
     "data": {
      "text/plain": [
       "0.15781202277215325"
      ]
     },
     "execution_count": 34,
     "metadata": {},
     "output_type": "execute_result"
    }
   ],
   "source": [
    "class LinearModel:\n",
    "    def _get_df(self, X):\n",
    "        df = pd.DataFrame()\n",
    "        df['region'] = X['Dónde estás trabajando'].apply(lambda x: self.region_map_.get(x, self.mean_))\n",
    "        df['gender'] = X['Me identifico'].apply(lambda x: self.gender_map_.get(gender_map[x], self.mean_))\n",
    "        df['log_gente_a_cargo'] = X['¿Gente a cargo?'].astype(int).apply(lambda x: math.log10(x+1))\n",
    "        df['exp'] = X['Años de experiencia'].apply(lambda x: math.log10(x+1))\n",
    "        df['study'] = X[['Nivel de estudios alcanzado', 'Estado']].apply(lambda x: self.study_.get(' '.join(x), self.mean_), axis=1)\n",
    "        return df\n",
    "\n",
    "    def get_params(self, deep=True):\n",
    "        return {}\n",
    "\n",
    "    def set_params(self, **params):\n",
    "        return\n",
    "    \n",
    "    def fit(self, X, y):\n",
    "        self.mean_ = y.mean()\n",
    "        self.region_map_ = pd.concat((X['Dónde estás trabajando'].rename('k'), y.rename('v')), axis=1).groupby('k').mean().to_dict()['v']\n",
    "        self.gender_map_ = pd.concat((X['Me identifico'].apply(lambda x: gender_map[x]).rename('k'), y.rename('v')), axis=1).groupby('k').mean().to_dict()['v']\n",
    "        self.study_ = pd.concat((X[['Nivel de estudios alcanzado', 'Estado']].apply(lambda x: ' '.join(x), axis=1).rename('k'), y.rename('v')), axis=1).groupby('k').mean().to_dict()['v']\n",
    "\n",
    "        df = self._get_df(X)\n",
    "        self.model_ = LinearRegression()\n",
    "        self.model_.fit(df, y)\n",
    "        return self\n",
    "    \n",
    "    def predict(self, X):\n",
    "        return self.model_.predict(self._get_df(X))\n",
    "    \n",
    "    def score(self, X, y):\n",
    "        return r2_score(y, self.predict(X))\n",
    "\n",
    "X, y = df[['Me identifico', 'Dónde estás trabajando', '¿Gente a cargo?', 'Años de experiencia', 'Nivel de estudios alcanzado', 'Estado']], df['Salario mensual BRUTO (en tu moneda local)']\n",
    "m = LinearModel()\n",
    "cross_val_score(LinearModel(), X, y).mean()"
   ]
  },
  {
   "cell_type": "code",
   "execution_count": 35,
   "metadata": {},
   "outputs": [
    {
     "data": {
      "text/plain": [
       "Ingeniería en Sistemas de Información                     1078\n",
       "Ingeniería en Informática                                  741\n",
       "Analista de Sistemas                                       563\n",
       "Licenciatura en Sistemas de Información                    320\n",
       "Licenciatura en Ciencias dela Computación                  271\n",
       "                                                          ... \n",
       "PERIODISMO                                                   1\n",
       "Traductorado Cientifico Literario                            1\n",
       "Tecnicatura Universitaria en Automatización Industrial       1\n",
       "Licenciatura en ciencias nauticas                            1\n",
       "Lic en fisica                                                1\n",
       "Name: Carrera, Length: 572, dtype: int64"
      ]
     },
     "execution_count": 35,
     "metadata": {},
     "output_type": "execute_result"
    }
   ],
   "source": [
    "df['Carrera'].value_counts()"
   ]
  },
  {
   "cell_type": "code",
   "execution_count": 36,
   "metadata": {},
   "outputs": [
    {
     "data": {
      "text/plain": [
       "UTN - Universidad Tecnológica Nacional        1271\n",
       "UBA - Universidad de Buenos Aires              830\n",
       "UADE - Universidad Argentina De la Empresa     228\n",
       "UNLaM - Universidad Nacional de La Matanza     196\n",
       "UAI - Universidad Abierta Interamericana       162\n",
       "                                              ... \n",
       "Washington and Lee University                    1\n",
       "ean                                              1\n",
       "UNC - Manuel Belgrano                            1\n",
       "Instituto sup. del Milagro                       1\n",
       "Universidad Nacional de San Juan                 1\n",
       "Name: Universidad, Length: 848, dtype: int64"
      ]
     },
     "execution_count": 36,
     "metadata": {},
     "output_type": "execute_result"
    }
   ],
   "source": [
    "df['Universidad'].value_counts()"
   ]
  },
  {
   "cell_type": "code",
   "execution_count": 37,
   "metadata": {},
   "outputs": [
    {
     "data": {
      "text/plain": [
       "0.09204226421744824"
      ]
     },
     "execution_count": 37,
     "metadata": {},
     "output_type": "execute_result"
    }
   ],
   "source": [
    "class LinearModel:\n",
    "    def _get_df(self, X):\n",
    "        df = pd.DataFrame()\n",
    "        df['region'] = X['Dónde estás trabajando'].apply(lambda x: self.region_map_.get(x, self.mean_))\n",
    "        df['gender'] = X['Me identifico'].apply(lambda x: self.gender_map_.get(gender_map[x], self.mean_))\n",
    "        df['log_gente_a_cargo'] = X['¿Gente a cargo?'].astype(int).apply(lambda x: math.log10(x+1))\n",
    "        df['exp'] = X['Años de experiencia'].apply(lambda x: math.log10(x+1))\n",
    "        df['study'] = pd.concat((\n",
    "            X['Nivel de estudios alcanzado'],\n",
    "            X['Estado'],\n",
    "            X['Carrera'].apply(lambda x: x if x in self.degrees_ else ''),\n",
    "            X['Universidad'].apply(lambda x: x if x in self.universities_ else ''),\n",
    "        ), axis=1).fillna('').apply(lambda x: self.study_.get(' '.join(x), self.mean_), axis=1)\n",
    "        return df\n",
    "\n",
    "    def get_params(self, deep=True):\n",
    "        return {}\n",
    "\n",
    "    def set_params(self, **params):\n",
    "        return\n",
    "    \n",
    "    def fit(self, X, y):\n",
    "        self.mean_ = y.mean()\n",
    "        self.region_map_ = pd.concat((X['Dónde estás trabajando'].rename('k'), y.rename('v')), axis=1).groupby('k').mean().to_dict()['v']\n",
    "        self.gender_map_ = pd.concat((X['Me identifico'].apply(lambda x: gender_map[x]).rename('k'), y.rename('v')), axis=1).groupby('k').mean().to_dict()['v']\n",
    "        self.degrees_ = X['Carrera'].value_counts()[X['Carrera'].value_counts() > X.shape[0] / 100].to_dict().keys()\n",
    "        self.universities_ = X['Universidad'].value_counts()[X['Universidad'].value_counts() > X.shape[0] / 100].to_dict().keys()\n",
    "        self.study_ = pd.concat((\n",
    "            pd.concat((\n",
    "                X['Nivel de estudios alcanzado'],\n",
    "                X['Estado'],\n",
    "                X['Carrera'].apply(lambda x: x if x in self.degrees_ else ''),\n",
    "                X['Universidad'].apply(lambda x: x if x in self.universities_ else ''),\n",
    "            ), axis=1)\n",
    "        .apply(lambda x: ' '.join(x), axis=1).rename('k'), y.rename('v')), axis=1).groupby('k').mean().to_dict()['v']\n",
    "        \n",
    "        df = self._get_df(X)\n",
    "        self.model_ = LinearRegression()\n",
    "        self.model_.fit(df, y)\n",
    "        return self\n",
    "    \n",
    "    def predict(self, X):\n",
    "        return self.model_.predict(self._get_df(X))\n",
    "    \n",
    "    def score(self, X, y):\n",
    "        return r2_score(y, self.predict(X))\n",
    "\n",
    "X, y = df[['Me identifico', 'Dónde estás trabajando', '¿Gente a cargo?', 'Años de experiencia', 'Nivel de estudios alcanzado', 'Estado', 'Carrera', 'Universidad']], df['Salario mensual BRUTO (en tu moneda local)']\n",
    "m = LinearModel()\n",
    "cross_val_score(LinearModel(), X, y).mean()"
   ]
  },
  {
   "cell_type": "code",
   "execution_count": 38,
   "metadata": {},
   "outputs": [
    {
     "data": {
      "text/plain": [
       "0.15638080087703565"
      ]
     },
     "execution_count": 38,
     "metadata": {},
     "output_type": "execute_result"
    }
   ],
   "source": [
    "class LinearModel:\n",
    "    def _get_df(self, X):\n",
    "        df = pd.DataFrame()\n",
    "        df['region'] = X['Dónde estás trabajando'].apply(lambda x: self.region_map_.get(x, self.mean_))\n",
    "        df['gender'] = X['Me identifico'].apply(lambda x: self.gender_map_.get(gender_map[x], self.mean_))\n",
    "        df['log_gente_a_cargo'] = X['¿Gente a cargo?'].astype(int).apply(lambda x: math.log10(x+1))\n",
    "        df['exp'] = X['Años de experiencia'].apply(lambda x: math.log10(x+1))\n",
    "        df['study'] = pd.concat((\n",
    "            X['Nivel de estudios alcanzado'],\n",
    "            X['Estado'],\n",
    "            X['Carrera'].apply(lambda x: x if x in self.degrees_ else ''),\n",
    "        ), axis=1).fillna('').apply(lambda x: self.study_.get(' '.join(x), self.mean_), axis=1)\n",
    "        return df\n",
    "\n",
    "    def get_params(self, deep=True):\n",
    "        return {}\n",
    "\n",
    "    def set_params(self, **params):\n",
    "        return\n",
    "    \n",
    "    def fit(self, X, y):\n",
    "        self.mean_ = y.mean()\n",
    "        self.region_map_ = pd.concat((X['Dónde estás trabajando'].rename('k'), y.rename('v')), axis=1).groupby('k').mean().to_dict()['v']\n",
    "        self.gender_map_ = pd.concat((X['Me identifico'].apply(lambda x: gender_map[x]).rename('k'), y.rename('v')), axis=1).groupby('k').mean().to_dict()['v']\n",
    "        self.degrees_ = X['Carrera'].value_counts()[X['Carrera'].value_counts() > X.shape[0] / 100].to_dict().keys()\n",
    "        self.universities_ = X['Universidad'].value_counts()[X['Universidad'].value_counts() > X.shape[0] / 100].to_dict().keys()\n",
    "        self.study_ = pd.concat((\n",
    "            pd.concat((\n",
    "                X['Nivel de estudios alcanzado'],\n",
    "                X['Estado'],\n",
    "                X['Carrera'].apply(lambda x: x if x in self.degrees_ else ''),\n",
    "            ), axis=1)\n",
    "        .apply(lambda x: ' '.join(x), axis=1).rename('k'), y.rename('v')), axis=1).groupby('k').mean().to_dict()['v']\n",
    "        \n",
    "        df = self._get_df(X)\n",
    "        self.model_ = LinearRegression()\n",
    "        self.model_.fit(df, y)\n",
    "        return self\n",
    "    \n",
    "    def predict(self, X):\n",
    "        return self.model_.predict(self._get_df(X))\n",
    "    \n",
    "    def score(self, X, y):\n",
    "        return r2_score(y, self.predict(X))\n",
    "\n",
    "X, y = df[['Me identifico', 'Dónde estás trabajando', '¿Gente a cargo?', 'Años de experiencia', 'Nivel de estudios alcanzado', 'Estado', 'Carrera', 'Universidad']], df['Salario mensual BRUTO (en tu moneda local)']\n",
    "m = LinearModel()\n",
    "cross_val_score(LinearModel(), X, y).mean()"
   ]
  },
  {
   "cell_type": "code",
   "execution_count": 39,
   "metadata": {},
   "outputs": [
    {
     "data": {
      "text/plain": [
       "0.15988516023297533"
      ]
     },
     "execution_count": 39,
     "metadata": {},
     "output_type": "execute_result"
    }
   ],
   "source": [
    "class LinearModel:\n",
    "    def _get_df(self, X):\n",
    "        df = pd.DataFrame()\n",
    "        df['region'] = X['Dónde estás trabajando'].apply(lambda x: self.region_map_.get(x, self.mean_))\n",
    "        df['gender'] = X['Me identifico'].apply(lambda x: self.gender_map_.get(gender_map[x], self.mean_))\n",
    "        df['log_gente_a_cargo'] = X['¿Gente a cargo?'].astype(int).apply(lambda x: math.log10(x+1))\n",
    "        df['exp'] = X['Años de experiencia'].apply(lambda x: math.log10(x+1))\n",
    "        df['study'] = pd.concat((\n",
    "            X['Nivel de estudios alcanzado'],\n",
    "            X['Estado'],\n",
    "            X['Carrera'].apply(lambda x: x if x in self.degrees_ else ''),\n",
    "        ), axis=1).fillna('').apply(lambda x: self.study_.get(' '.join(x), self.mean_), axis=1)\n",
    "        return df\n",
    "\n",
    "    def get_params(self, deep=True):\n",
    "        return {}\n",
    "\n",
    "    def set_params(self, **params):\n",
    "        return\n",
    "    \n",
    "    def fit(self, X, y):\n",
    "        self.mean_ = y.mean()\n",
    "        self.region_map_ = pd.concat((X['Dónde estás trabajando'].rename('k'), y.rename('v')), axis=1).groupby('k').mean().to_dict()['v']\n",
    "        self.gender_map_ = pd.concat((X['Me identifico'].apply(lambda x: gender_map[x]).rename('k'), y.rename('v')), axis=1).groupby('k').mean().to_dict()['v']\n",
    "        self.degrees_ = X['Carrera'].value_counts()[X['Carrera'].value_counts() > X.shape[0] * 3 / 100].to_dict().keys()\n",
    "        self.study_ = pd.concat((\n",
    "            pd.concat((\n",
    "                X['Nivel de estudios alcanzado'],\n",
    "                X['Estado'],\n",
    "                X['Carrera'].apply(lambda x: x if x in self.degrees_ else ''),\n",
    "            ), axis=1)\n",
    "        .apply(lambda x: ' '.join(x), axis=1).rename('k'), y.rename('v')), axis=1).groupby('k').mean().to_dict()['v']\n",
    "        \n",
    "        df = self._get_df(X)\n",
    "        self.model_ = LinearRegression()\n",
    "        self.model_.fit(df, y)\n",
    "        return self\n",
    "    \n",
    "    def predict(self, X):\n",
    "        return self.model_.predict(self._get_df(X))\n",
    "    \n",
    "    def score(self, X, y):\n",
    "        return r2_score(y, self.predict(X))\n",
    "\n",
    "X, y = df[['Me identifico', 'Dónde estás trabajando', '¿Gente a cargo?', 'Años de experiencia', 'Nivel de estudios alcanzado', 'Estado', 'Carrera', 'Universidad']], df['Salario mensual BRUTO (en tu moneda local)']\n",
    "m = LinearModel()\n",
    "cross_val_score(LinearModel(), X, y).mean()"
   ]
  },
  {
   "cell_type": "code",
   "execution_count": 40,
   "metadata": {},
   "outputs": [
    {
     "data": {
      "text/plain": [
       "0.1526299924940517"
      ]
     },
     "execution_count": 40,
     "metadata": {},
     "output_type": "execute_result"
    }
   ],
   "source": [
    "class LinearModel:\n",
    "    def _get_df(self, X):\n",
    "        df = pd.DataFrame()\n",
    "        df['region'] = X['Dónde estás trabajando'].apply(lambda x: self.region_map_.get(x, self.mean_))\n",
    "        df['gender'] = X['Me identifico'].apply(lambda x: self.gender_map_.get(gender_map[x], self.mean_))\n",
    "        df['log_gente_a_cargo'] = X['¿Gente a cargo?'].astype(int).apply(lambda x: math.log10(x+1))\n",
    "        df['exp'] = X['Años de experiencia'].apply(lambda x: math.log10(x+1))\n",
    "        df['study'] = pd.concat((\n",
    "            X['Nivel de estudios alcanzado'],\n",
    "            X['Estado'],\n",
    "            X['Carrera'].apply(lambda x: x if x in self.degrees_ else ''),\n",
    "            X['Universidad'].apply(lambda x: x if x in self.universities_ else ''),\n",
    "        ), axis=1).fillna('').apply(lambda x: self.study_.get(' '.join(x), self.mean_), axis=1)\n",
    "        return df\n",
    "\n",
    "    def get_params(self, deep=True):\n",
    "        return {}\n",
    "\n",
    "    def set_params(self, **params):\n",
    "        return\n",
    "    \n",
    "    def fit(self, X, y):\n",
    "        self.mean_ = y.mean()\n",
    "        self.region_map_ = pd.concat((X['Dónde estás trabajando'].rename('k'), y.rename('v')), axis=1).groupby('k').mean().to_dict()['v']\n",
    "        self.gender_map_ = pd.concat((X['Me identifico'].apply(lambda x: gender_map[x]).rename('k'), y.rename('v')), axis=1).groupby('k').mean().to_dict()['v']\n",
    "        self.degrees_ = X['Carrera'].value_counts()[X['Carrera'].value_counts() > X.shape[0] * 3 / 100].to_dict().keys()\n",
    "        self.universities_ = X['Universidad'].value_counts()[X['Universidad'].value_counts() > X.shape[0] * 5 / 100].to_dict().keys()\n",
    "        self.study_ = pd.concat((\n",
    "            pd.concat((\n",
    "                X['Nivel de estudios alcanzado'],\n",
    "                X['Estado'],\n",
    "                X['Carrera'].apply(lambda x: x if x in self.degrees_ else ''),\n",
    "                X['Universidad'].apply(lambda x: x if x in self.universities_ else ''),\n",
    "            ), axis=1)\n",
    "        .apply(lambda x: ' '.join(x), axis=1).rename('k'), y.rename('v')), axis=1).groupby('k').mean().to_dict()['v']\n",
    "        \n",
    "        df = self._get_df(X)\n",
    "        self.model_ = LinearRegression()\n",
    "        self.model_.fit(df, y)\n",
    "        return self\n",
    "    \n",
    "    def predict(self, X):\n",
    "        return self.model_.predict(self._get_df(X))\n",
    "    \n",
    "    def score(self, X, y):\n",
    "        return r2_score(y, self.predict(X))\n",
    "\n",
    "X, y = df[['Me identifico', 'Dónde estás trabajando', '¿Gente a cargo?', 'Años de experiencia', 'Nivel de estudios alcanzado', 'Estado', 'Carrera', 'Universidad']], df['Salario mensual BRUTO (en tu moneda local)']\n",
    "m = LinearModel()\n",
    "cross_val_score(LinearModel(), X, y).mean()"
   ]
  },
  {
   "cell_type": "code",
   "execution_count": 41,
   "metadata": {},
   "outputs": [
    {
     "data": {
      "text/plain": [
       "0.15988516023297533"
      ]
     },
     "execution_count": 41,
     "metadata": {},
     "output_type": "execute_result"
    }
   ],
   "source": [
    "class LinearModel:\n",
    "    def _get_df(self, X):\n",
    "        df = pd.DataFrame()\n",
    "        df['region'] = X['Dónde estás trabajando'].apply(lambda x: self.region_map_.get(x, self.mean_))\n",
    "        df['gender'] = X['Me identifico'].apply(lambda x: self.gender_map_.get(gender_map[x], self.mean_))\n",
    "        df['log_gente_a_cargo'] = X['¿Gente a cargo?'].astype(int).apply(lambda x: math.log10(x+1))\n",
    "        df['exp'] = X['Años de experiencia'].apply(lambda x: math.log10(x+1))\n",
    "        df['study'] = pd.concat((\n",
    "            X['Nivel de estudios alcanzado'],\n",
    "            X['Estado'],\n",
    "            X['Carrera'].apply(lambda x: x if x in self.degrees_ else ''),\n",
    "        ), axis=1).fillna('').apply(lambda x: self.study_.get(' '.join(x), self.mean_), axis=1)\n",
    "        return df\n",
    "\n",
    "    def get_params(self, deep=True):\n",
    "        return {}\n",
    "\n",
    "    def set_params(self, **params):\n",
    "        return\n",
    "    \n",
    "    def fit(self, X, y):\n",
    "        self.mean_ = y.mean()\n",
    "        self.region_map_ = pd.concat((X['Dónde estás trabajando'].rename('k'), y.rename('v')), axis=1).groupby('k').mean().to_dict()['v']\n",
    "        self.gender_map_ = pd.concat((X['Me identifico'].apply(lambda x: gender_map[x]).rename('k'), y.rename('v')), axis=1).groupby('k').mean().to_dict()['v']\n",
    "        self.degrees_ = X['Carrera'].value_counts()[X['Carrera'].value_counts() > X.shape[0] * 3 / 100].to_dict().keys()\n",
    "        self.study_ = pd.concat((\n",
    "            pd.concat((\n",
    "                X['Nivel de estudios alcanzado'],\n",
    "                X['Estado'],\n",
    "                X['Carrera'].apply(lambda x: x if x in self.degrees_ else ''),\n",
    "            ), axis=1)\n",
    "        .apply(lambda x: ' '.join(x), axis=1).rename('k'), y.rename('v')), axis=1).groupby('k').mean().to_dict()['v']\n",
    "        \n",
    "        df = self._get_df(X)\n",
    "        self.model_ = LinearRegression()\n",
    "        self.model_.fit(df, y)\n",
    "        return self\n",
    "    \n",
    "    def predict(self, X):\n",
    "        return self.model_.predict(self._get_df(X))\n",
    "    \n",
    "    def score(self, X, y):\n",
    "        return r2_score(y, self.predict(X))\n",
    "\n",
    "X, y = df[['Me identifico', 'Dónde estás trabajando', '¿Gente a cargo?', 'Años de experiencia', 'Nivel de estudios alcanzado', 'Estado', 'Carrera', 'Universidad']], df['Salario mensual BRUTO (en tu moneda local)']\n",
    "m = LinearModel()\n",
    "cross_val_score(LinearModel(), X, y).mean()"
   ]
  },
  {
   "cell_type": "markdown",
   "metadata": {},
   "source": [
    "## doc2vec\n",
    "\n",
    "Ya tenemos un modelo base que explica un 16% del sueldo. No es un gran número pero es una base sobre la que trabajar. Muchas de las variables que tenemos son categóricas así que probemos hacer un documento con cada registro y aplicar doc2vec para generar embeddings.\n",
    "Empecemos sólo con los lenguajes de programación para ver cómo funciona."
   ]
  },
  {
   "cell_type": "code",
   "execution_count": 42,
   "metadata": {},
   "outputs": [],
   "source": [
    "documents = [TaggedDocument([x for x in df.iloc[i].fillna('')['Lenguajes de programación'].split(', ') if x], [i]) for i in range(df.shape[0])]\n",
    "model = Doc2Vec(documents, vector_size=2, epochs=30)"
   ]
  },
  {
   "cell_type": "code",
   "execution_count": 43,
   "metadata": {},
   "outputs": [],
   "source": [
    "embeddings = [model.docvecs[i] for i in range(len(model.docvecs))]"
   ]
  },
  {
   "cell_type": "code",
   "execution_count": 44,
   "metadata": {},
   "outputs": [
    {
     "data": {
      "image/png": "[encoded data removed]",
      "text/plain": [
       "<Figure size 432x288 with 2 Axes>"
      ]
     },
     "metadata": {
      "needs_background": "light"
     },
     "output_type": "display_data"
    }
   ],
   "source": [
    "pd.DataFrame(embeddings).plot.scatter(0, 1, c=df['Años de experiencia'], cmap='afmhot');"
   ]
  },
  {
   "cell_type": "code",
   "execution_count": 45,
   "metadata": {},
   "outputs": [
    {
     "data": {
      "text/plain": [
       "0.008280584439386507"
      ]
     },
     "execution_count": 45,
     "metadata": {},
     "output_type": "execute_result"
    }
   ],
   "source": [
    "class EmbeddingModel:\n",
    "    def get_params(self, deep=True):\n",
    "        return {}\n",
    "\n",
    "    def set_params(self, **params):\n",
    "        return\n",
    "    \n",
    "    def fit(self, X, y):\n",
    "        documents = [TaggedDocument([x for x in X.iloc[i].fillna('')['Lenguajes de programación'].split(', ') if x], [i]) for i in range(X.shape[0])]\n",
    "        self.doc2vec_ = Doc2Vec(documents, vector_size=4, alpha=0.025, min_count=2, epochs=300)\n",
    "        self.model_ = LinearRegression()\n",
    "        self.model_.fit(pd.DataFrame([self.doc2vec_.docvecs[i] for i in range(len(self.doc2vec_.docvecs))]), y)\n",
    "        return self\n",
    "    \n",
    "    def predict(self, X):\n",
    "        return self.model_.predict([self.doc2vec_.infer_vector([x for x in X.iloc[i].fillna('')['Lenguajes de programación'].split(', ') if x]) for i in range(X.shape[0])])\n",
    "    \n",
    "    def score(self, X, y):\n",
    "        return r2_score(y, self.predict(X))\n",
    "\n",
    "X, y = df[['Lenguajes de programación']], df['Salario mensual BRUTO (en tu moneda local)']\n",
    "cross_val_score(EmbeddingModel(), X, y).mean()"
   ]
  },
  {
   "cell_type": "code",
   "execution_count": 83,
   "metadata": {},
   "outputs": [
    {
     "data": {
      "text/plain": [
       "0.16000891499736603"
      ]
     },
     "execution_count": 83,
     "metadata": {},
     "output_type": "execute_result"
    }
   ],
   "source": [
    "class LinearEmbeddingModel:\n",
    "    def __init__(self, vector_size=1, epochs=1):\n",
    "        self.vector_size = vector_size\n",
    "        self.epochs = epochs\n",
    "\n",
    "    def _row_to_words(self, row):\n",
    "        return [\n",
    "            f'{key}={row[key]}'\n",
    "            for key\n",
    "            in (\n",
    "                'Tengo',\n",
    "                'Realizaste cursos de especialización',\n",
    "                '¿Contribuís a proyectos open source?',\n",
    "                '¿Programás como hobbie?',\n",
    "                'Trabajo de',\n",
    "                '¿Qué SO usás en tu laptop/PC para trabajar?',\n",
    "                '¿Y en tu celular?',\n",
    "                '¿Tenés guardias?',\n",
    "                'Tipo de contrato',\n",
    "                'Orientación sexual',\n",
    "                'Cantidad de empleados',\n",
    "                'Actividad principal',\n",
    "            )\n",
    "        ] + [\n",
    "            f'{k}={v}' for k in (\n",
    "                '¿A qué eventos de tecnología asististe en el último año?',\n",
    "                'Beneficios extra',\n",
    "                'Plataformas',\n",
    "                'Lenguajes de programación',\n",
    "                'Frameworks, herramientas y librerías',\n",
    "                'Bases de datos',\n",
    "                'QA / Testing',\n",
    "                'IDEs',\n",
    "                'Lenguajes de programación'\n",
    "            ) for v in row.fillna('')[k].split(', ')\n",
    "        ]\n",
    "\n",
    "    def _row_to_embeddings(self, row):\n",
    "        return pd.Series(self.doc2vec_.infer_vector(self._row_to_words(row)))\n",
    "\n",
    "    def _get_df(self, X):\n",
    "        df = pd.DataFrame()\n",
    "        df['region'] = X['Dónde estás trabajando'].apply(lambda x: self.region_map_.get(x, self.mean_))\n",
    "        df['gender'] = X['Me identifico'].apply(lambda x: self.gender_map_.get(gender_map[x], self.mean_))\n",
    "        df['log_gente_a_cargo'] = X['¿Gente a cargo?'].astype(int).apply(lambda x: math.log10(x+1))\n",
    "        df['exp'] = X['Años de experiencia'].apply(lambda x: math.log10(x+1))\n",
    "        df['study'] = pd.concat((\n",
    "            X['Nivel de estudios alcanzado'],\n",
    "            X['Estado'],\n",
    "            X['Carrera'].apply(lambda x: x if x in self.degrees_ else ''),\n",
    "        ), axis=1).fillna('').apply(lambda x: self.study_.get(' '.join(x), self.mean_), axis=1)\n",
    "        return pd.concat((df, X.apply(lambda row: self._row_to_embeddings(row), axis=1)), axis=1)\n",
    "\n",
    "    def get_params(self, deep=True):\n",
    "        return {}\n",
    "\n",
    "    def set_params(self, **params):\n",
    "        return\n",
    "    \n",
    "    def fit(self, X, y):\n",
    "        documents = [TaggedDocument(self._row_to_words(X.iloc[i]), [i]) for i in range(X.shape[0])]\n",
    "        self.doc2vec_ = Doc2Vec(documents, vector_size=self.vector_size, alpha=0.025, min_count=2, epochs=self.epochs)\n",
    "        self.mean_ = y.mean()\n",
    "        self.region_map_ = pd.concat((X['Dónde estás trabajando'].rename('k'), y.rename('v')), axis=1).groupby('k').mean().to_dict()['v']\n",
    "        self.gender_map_ = pd.concat((X['Me identifico'].apply(lambda x: gender_map[x]).rename('k'), y.rename('v')), axis=1).groupby('k').mean().to_dict()['v']\n",
    "        self.degrees_ = X['Carrera'].value_counts()[X['Carrera'].value_counts() > X.shape[0] * 3 / 100].to_dict().keys()\n",
    "        self.study_ = pd.concat((\n",
    "            pd.concat((\n",
    "                X['Nivel de estudios alcanzado'],\n",
    "                X['Estado'],\n",
    "                X['Carrera'].apply(lambda x: x if x in self.degrees_ else ''),\n",
    "            ), axis=1)\n",
    "        .apply(lambda x: ' '.join(x), axis=1).rename('k'), y.rename('v')), axis=1).groupby('k').mean().to_dict()['v']\n",
    "        \n",
    "        df = self._get_df(X)\n",
    "        self.model_ = LinearRegression()\n",
    "        self.model_.fit(df, y)\n",
    "        return self\n",
    "    \n",
    "    def predict(self, X):\n",
    "        return self.model_.predict(self._get_df(X))\n",
    "    \n",
    "    def score(self, X, y):\n",
    "        return r2_score(y, self.predict(X))\n",
    "\n",
    "X, y = df, df['Salario mensual BRUTO (en tu moneda local)']\n",
    "cross_val_score(LinearEmbeddingModel(), X, y).mean()"
   ]
  },
  {
   "cell_type": "code",
   "execution_count": 84,
   "metadata": {},
   "outputs": [
    {
     "data": {
      "text/plain": [
       "0.15981906013320776"
      ]
     },
     "execution_count": 84,
     "metadata": {},
     "output_type": "execute_result"
    }
   ],
   "source": [
    "cross_val_score(LinearEmbeddingModel(vector_size=10, epochs=10), X, y).mean()"
   ]
  },
  {
   "cell_type": "code",
   "execution_count": 85,
   "metadata": {},
   "outputs": [
    {
     "data": {
      "text/plain": [
       "0.16008415113073585"
      ]
     },
     "execution_count": 85,
     "metadata": {},
     "output_type": "execute_result"
    }
   ],
   "source": [
    "cross_val_score(LinearEmbeddingModel(vector_size=10, epochs=100), X, y).mean()"
   ]
  },
  {
   "cell_type": "code",
   "execution_count": 86,
   "metadata": {},
   "outputs": [
    {
     "data": {
      "text/plain": [
       "0.15986304581172256"
      ]
     },
     "execution_count": 86,
     "metadata": {},
     "output_type": "execute_result"
    }
   ],
   "source": [
    "cross_val_score(LinearEmbeddingModel(vector_size=100, epochs=10), X, y).mean()"
   ]
  },
  {
   "cell_type": "code",
   "execution_count": 87,
   "metadata": {},
   "outputs": [
    {
     "data": {
      "text/plain": [
       "0.1598453943802156"
      ]
     },
     "execution_count": 87,
     "metadata": {},
     "output_type": "execute_result"
    }
   ],
   "source": [
    "cross_val_score(LinearEmbeddingModel(vector_size=20, epochs=20), X, y).mean()"
   ]
  },
  {
   "cell_type": "code",
   "execution_count": 88,
   "metadata": {},
   "outputs": [
    {
     "data": {
      "text/plain": [
       "0.1598802000004143"
      ]
     },
     "execution_count": 88,
     "metadata": {},
     "output_type": "execute_result"
    }
   ],
   "source": [
    "cross_val_score(LinearEmbeddingModel(vector_size=20, epochs=300), X, y).mean()"
   ]
  },
  {
   "cell_type": "code",
   "execution_count": 89,
   "metadata": {},
   "outputs": [
    {
     "data": {
      "text/plain": [
       "0.15997267282251187"
      ]
     },
     "execution_count": 89,
     "metadata": {},
     "output_type": "execute_result"
    }
   ],
   "source": [
    "cross_val_score(LinearEmbeddingModel(vector_size=10, epochs=300), X, y).mean()"
   ]
  },
  {
   "cell_type": "code",
   "execution_count": 116,
   "metadata": {},
   "outputs": [
    {
     "data": {
      "text/plain": [
       "0.08536419753314979"
      ]
     },
     "execution_count": 116,
     "metadata": {},
     "output_type": "execute_result"
    }
   ],
   "source": [
    "class XGBoostModel:\n",
    "        self.vector_size = vector_size\n",
    "        self.epochs = epochs\n",
    "\n",
    "    def _row_to_words(self, row):\n",
    "        return [\n",
    "            f'{key}={row[key]}'\n",
    "            for key\n",
    "            in (\n",
    "                'Tengo',\n",
    "                'Realizaste cursos de especialización',\n",
    "                '¿Contribuís a proyectos open source?',\n",
    "                '¿Programás como hobbie?',\n",
    "                'Trabajo de',\n",
    "                '¿Qué SO usás en tu laptop/PC para trabajar?',\n",
    "                '¿Y en tu celular?',\n",
    "                '¿Tenés guardias?',\n",
    "                'Tipo de contrato',\n",
    "                'Orientación sexual',\n",
    "                'Cantidad de empleados',\n",
    "                'Actividad principal',\n",
    "            )\n",
    "        ] + [\n",
    "            f'{k}={v}' for k in (\n",
    "                '¿A qué eventos de tecnología asististe en el último año?',\n",
    "                'Beneficios extra',\n",
    "                'Plataformas',\n",
    "                'Lenguajes de programación',\n",
    "                'Frameworks, herramientas y librerías',\n",
    "                'Bases de datos',\n",
    "                'QA / Testing',\n",
    "                'IDEs',\n",
    "                'Lenguajes de programación'\n",
    "            ) for v in row.fillna('')[k].split(', ')\n",
    "        ]\n",
    "\n",
    "    def _row_to_embeddings(self, row):\n",
    "        return pd.Series(self.doc2vec_.infer_vector(self._row_to_words(row)))\n",
    "\n",
    "    def _get_df(self, X):\n",
    "        df = pd.DataFrame()\n",
    "        df['region'] = X['Dónde estás trabajando'].apply(lambda x: self.region_map_.get(x, self.mean_))\n",
    "        df['gender'] = X['Me identifico'].apply(lambda x: self.gender_map_.get(gender_map[x], self.mean_))\n",
    "        df['log_gente_a_cargo'] = X['¿Gente a cargo?'].astype(int).apply(lambda x: math.log10(x+1))\n",
    "        df['exp'] = X['Años de experiencia'].apply(lambda x: math.log10(x+1))\n",
    "        df['study'] = pd.concat((\n",
    "            X['Nivel de estudios alcanzado'],\n",
    "            X['Estado'],\n",
    "            X['Carrera'].apply(lambda x: x if x in self.degrees_ else ''),\n",
    "        ), axis=1).fillna('').apply(lambda x: self.study_.get(' '.join(x), self.mean_), axis=1)\n",
    "        return df\n",
    "\n",
    "    def get_params(self, deep=True):\n",
    "        return {}\n",
    "\n",
    "    def set_params(self, **params):\n",
    "        return\n",
    "    \n",
    "    def fit(self, X, y):\n",
    "        self.mean_ = y.mean()\n",
    "        self.region_map_ = pd.concat((X['Dónde estás trabajando'].rename('k'), y.rename('v')), axis=1).groupby('k').mean().to_dict()['v']\n",
    "        self.gender_map_ = pd.concat((X['Me identifico'].apply(lambda x: gender_map[x]).rename('k'), y.rename('v')), axis=1).groupby('k').mean().to_dict()['v']\n",
    "        self.degrees_ = X['Carrera'].value_counts()[X['Carrera'].value_counts() > X.shape[0] * 3 / 100].to_dict().keys()\n",
    "        self.study_ = pd.concat((\n",
    "            pd.concat((\n",
    "                X['Nivel de estudios alcanzado'],\n",
    "                X['Estado'],\n",
    "                X['Carrera'].apply(lambda x: x if x in self.degrees_ else ''),\n",
    "            ), axis=1)\n",
    "        .apply(lambda x: ' '.join(x), axis=1).rename('k'), y.rename('v')), axis=1).groupby('k').mean().to_dict()['v']\n",
    "        \n",
    "        df = self._get_df(X)\n",
    "        self.model_ = xgb.XGBRegressor(**{'gamma': 0.55, 'n_estimators': 230, 'colsample_bytree': 0.55, 'max_depth': 23, 'min_child_weight': 16.0, 'subsample': 0.7460131711512644, 'learning_rate': 0.05})\n",
    "        self.model_.fit(df, y)\n",
    "        return self\n",
    "    \n",
    "    def predict(self, X):\n",
    "        return self.model_.predict(self._get_df(X))\n",
    "    \n",
    "    def score(self, X, y):\n",
    "        return r2_score(y, self.predict(X))\n",
    "\n",
    "X, y = df, df['Salario mensual BRUTO (en tu moneda local)']\n",
    "cross_val_score(XGBoostModel(), X, y).mean()"
   ]
  },
  {
   "cell_type": "code",
   "execution_count": 116,
   "metadata": {},
   "outputs": [
    {
     "data": {
      "text/plain": [
       "0.08536419753314979"
      ]
     },
     "execution_count": 116,
     "metadata": {},
     "output_type": "execute_result"
    }
   ],
   "source": [
    "class XGBoostEmbeddingModel:\n",
    "    def __init__(self, vector_size=1, epochs=1):\n",
    "        self.vector_size = vector_size\n",
    "        self.epochs = epochs\n",
    "\n",
    "    def _row_to_words(self, row):\n",
    "        return [\n",
    "            f'{key}={row[key]}'\n",
    "            for key\n",
    "            in (\n",
    "                'Tengo',\n",
    "                'Realizaste cursos de especialización',\n",
    "                '¿Contribuís a proyectos open source?',\n",
    "                '¿Programás como hobbie?',\n",
    "                'Trabajo de',\n",
    "                '¿Qué SO usás en tu laptop/PC para trabajar?',\n",
    "                '¿Y en tu celular?',\n",
    "                '¿Tenés guardias?',\n",
    "                'Tipo de contrato',\n",
    "                'Orientación sexual',\n",
    "                'Cantidad de empleados',\n",
    "                'Actividad principal',\n",
    "            )\n",
    "        ] + [\n",
    "            f'{k}={v}' for k in (\n",
    "                '¿A qué eventos de tecnología asististe en el último año?',\n",
    "                'Beneficios extra',\n",
    "                'Plataformas',\n",
    "                'Lenguajes de programación',\n",
    "                'Frameworks, herramientas y librerías',\n",
    "                'Bases de datos',\n",
    "                'QA / Testing',\n",
    "                'IDEs',\n",
    "                'Lenguajes de programación'\n",
    "            ) for v in row.fillna('')[k].split(', ')\n",
    "        ]\n",
    "\n",
    "    def _row_to_embeddings(self, row):\n",
    "        return pd.Series(self.doc2vec_.infer_vector(self._row_to_words(row)))\n",
    "\n",
    "    def _get_df(self, X):\n",
    "        df = pd.DataFrame()\n",
    "        df['region'] = X['Dónde estás trabajando'].apply(lambda x: self.region_map_.get(x, self.mean_))\n",
    "        df['gender'] = X['Me identifico'].apply(lambda x: self.gender_map_.get(gender_map[x], self.mean_))\n",
    "        df['log_gente_a_cargo'] = X['¿Gente a cargo?'].astype(int).apply(lambda x: math.log10(x+1))\n",
    "        df['exp'] = X['Años de experiencia'].apply(lambda x: math.log10(x+1))\n",
    "        df['study'] = pd.concat((\n",
    "            X['Nivel de estudios alcanzado'],\n",
    "            X['Estado'],\n",
    "            X['Carrera'].apply(lambda x: x if x in self.degrees_ else ''),\n",
    "        ), axis=1).fillna('').apply(lambda x: self.study_.get(' '.join(x), self.mean_), axis=1)\n",
    "        return pd.concat((df, X.apply(lambda row: self._row_to_embeddings(row), axis=1)), axis=1)\n",
    "\n",
    "    def get_params(self, deep=True):\n",
    "        return {}\n",
    "\n",
    "    def set_params(self, **params):\n",
    "        return\n",
    "    \n",
    "    def fit(self, X, y):\n",
    "        documents = [TaggedDocument(self._row_to_words(X.iloc[i]), [i]) for i in range(X.shape[0])]\n",
    "        self.doc2vec_ = Doc2Vec(documents, vector_size=self.vector_size, alpha=0.025, min_count=2, epochs=self.epochs)\n",
    "        self.mean_ = y.mean()\n",
    "        self.region_map_ = pd.concat((X['Dónde estás trabajando'].rename('k'), y.rename('v')), axis=1).groupby('k').mean().to_dict()['v']\n",
    "        self.gender_map_ = pd.concat((X['Me identifico'].apply(lambda x: gender_map[x]).rename('k'), y.rename('v')), axis=1).groupby('k').mean().to_dict()['v']\n",
    "        self.degrees_ = X['Carrera'].value_counts()[X['Carrera'].value_counts() > X.shape[0] * 3 / 100].to_dict().keys()\n",
    "        self.study_ = pd.concat((\n",
    "            pd.concat((\n",
    "                X['Nivel de estudios alcanzado'],\n",
    "                X['Estado'],\n",
    "                X['Carrera'].apply(lambda x: x if x in self.degrees_ else ''),\n",
    "            ), axis=1)\n",
    "        .apply(lambda x: ' '.join(x), axis=1).rename('k'), y.rename('v')), axis=1).groupby('k').mean().to_dict()['v']\n",
    "        \n",
    "        df = self._get_df(X)\n",
    "        self.model_ = xgb.XGBRegressor(**{'gamma': 0.55, 'n_estimators': 230, 'colsample_bytree': 0.55, 'max_depth': 23, 'min_child_weight': 16.0, 'subsample': 0.7460131711512644, 'learning_rate': 0.05})\n",
    "        self.model_.fit(df, y)\n",
    "        return self\n",
    "    \n",
    "    def predict(self, X):\n",
    "        return self.model_.predict(self._get_df(X))\n",
    "    \n",
    "    def score(self, X, y):\n",
    "        return r2_score(y, self.predict(X))\n",
    "\n",
    "X, y = df, df['Salario mensual BRUTO (en tu moneda local)']\n",
    "cross_val_score(XGBoostEmbeddingModel(vector_size=20, epochs=400), X, y).mean()"
   ]
  },
  {
   "cell_type": "markdown",
   "metadata": {},
   "source": [
    "Yak. "
   ]
  }
 ],
 "metadata": {
  "kernelspec": {
   "display_name": "Python 3",
   "language": "python",
   "name": "python3"
  },
  "language_info": {
   "codemirror_mode": {
    "name": "ipython",
    "version": 3
   },
   "file_extension": ".py",
   "mimetype": "text/x-python",
   "name": "python",
   "nbconvert_exporter": "python",
   "pygments_lexer": "ipython3",
   "version": "3.8.2"
  }
 },
 "nbformat": 4,
 "nbformat_minor": 4
}
